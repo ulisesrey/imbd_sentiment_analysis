{
 "cells": [
  {
   "cell_type": "markdown",
   "metadata": {
    "id": "OaiCITgELavq"
   },
   "source": [
    "# Deep Learning for Text Classification\n",
    "---\n",
    "<small><i>February 2023 - *Notebook created by Mariona Carós\n"
   ]
  },
  {
   "cell_type": "markdown",
   "metadata": {
    "id": "f9OYgwEZLgnW"
   },
   "source": [
    "In this lab you are going to train several deep learning models for text classification. As you know, the goal of text classification is given a piece of text and a label, learning a model that is able to predict labels from text.\n",
    "\n",
    "Take for example a simple **Sentiment Analysis** problem. For this problem let's consider texts that belong to movie reviews. **These reviews can be classified on positive or negative**."
   ]
  },
  {
   "cell_type": "markdown",
   "metadata": {
    "id": "vhc_h6459r5Y"
   },
   "source": [
    "First, we are going to import and install some of the libraries we will need."
   ]
  },
  {
   "cell_type": "code",
   "execution_count": null,
   "metadata": {
    "id": "ubHC-DzdK8dT"
   },
   "outputs": [],
   "source": [
    "# We import the libraries that we are going to use\n",
    "import os\n",
    "import shutil\n",
    "import string\n",
    "import pandas as pd\n",
    "import numpy as np\n",
    "from bs4 import BeautifulSoup\n",
    "import spacy\n",
    "from sklearn.base import TransformerMixin\n",
    "from sklearn.pipeline import Pipeline\n",
    "from tqdm.notebook import tqdm_notebook\n",
    "import time\n",
    "from sklearn import metrics\n",
    "import time\n",
    "import warnings\n",
    "warnings.filterwarnings(\"ignore\")"
   ]
  },
  {
   "cell_type": "code",
   "execution_count": null,
   "metadata": {
    "id": "35s4x3hoLFQH"
   },
   "outputs": [],
   "source": [
    "# workaround for solving UTF-8 error of colab\n",
    "import locale\n",
    "def getpreferredencoding(do_setlocale = True):\n",
    "    return \"UTF-8\"\n",
    "locale.getpreferredencoding = getpreferredencoding"
   ]
  },
  {
   "cell_type": "markdown",
   "metadata": {
    "id": "10KgmnIgLZFm"
   },
   "source": [
    "Here we download the language model from Spacy that we are going to use."
   ]
  },
  {
   "cell_type": "code",
   "execution_count": null,
   "metadata": {
    "colab": {
     "base_uri": "https://localhost:8080/"
    },
    "id": "CRVk1QhRLHi_",
    "outputId": "c78fd30f-ad87-45a1-a37a-298f2a9cc476"
   },
   "outputs": [
    {
     "name": "stdout",
     "output_type": "stream",
     "text": [
      "Collecting en-core-web-lg==3.7.1\n",
      "  Downloading https://github.com/explosion/spacy-models/releases/download/en_core_web_lg-3.7.1/en_core_web_lg-3.7.1-py3-none-any.whl (587.7 MB)\n",
      "\u001b[2K     \u001b[90m━━━━━━━━━━━━━━━━━━━━━━━━━━━━━━━━━━━━━━━━\u001b[0m \u001b[32m587.7/587.7 MB\u001b[0m \u001b[31m1.0 MB/s\u001b[0m eta \u001b[36m0:00:00\u001b[0m\n",
      "\u001b[?25hRequirement already satisfied: spacy<3.8.0,>=3.7.2 in /usr/local/lib/python3.10/dist-packages (from en-core-web-lg==3.7.1) (3.7.4)\n",
      "Requirement already satisfied: spacy-legacy<3.1.0,>=3.0.11 in /usr/local/lib/python3.10/dist-packages (from spacy<3.8.0,>=3.7.2->en-core-web-lg==3.7.1) (3.0.12)\n",
      "Requirement already satisfied: spacy-loggers<2.0.0,>=1.0.0 in /usr/local/lib/python3.10/dist-packages (from spacy<3.8.0,>=3.7.2->en-core-web-lg==3.7.1) (1.0.5)\n",
      "Requirement already satisfied: murmurhash<1.1.0,>=0.28.0 in /usr/local/lib/python3.10/dist-packages (from spacy<3.8.0,>=3.7.2->en-core-web-lg==3.7.1) (1.0.10)\n",
      "Requirement already satisfied: cymem<2.1.0,>=2.0.2 in /usr/local/lib/python3.10/dist-packages (from spacy<3.8.0,>=3.7.2->en-core-web-lg==3.7.1) (2.0.8)\n",
      "Requirement already satisfied: preshed<3.1.0,>=3.0.2 in /usr/local/lib/python3.10/dist-packages (from spacy<3.8.0,>=3.7.2->en-core-web-lg==3.7.1) (3.0.9)\n",
      "Requirement already satisfied: thinc<8.3.0,>=8.2.2 in /usr/local/lib/python3.10/dist-packages (from spacy<3.8.0,>=3.7.2->en-core-web-lg==3.7.1) (8.2.3)\n",
      "Requirement already satisfied: wasabi<1.2.0,>=0.9.1 in /usr/local/lib/python3.10/dist-packages (from spacy<3.8.0,>=3.7.2->en-core-web-lg==3.7.1) (1.1.2)\n",
      "Requirement already satisfied: srsly<3.0.0,>=2.4.3 in /usr/local/lib/python3.10/dist-packages (from spacy<3.8.0,>=3.7.2->en-core-web-lg==3.7.1) (2.4.8)\n",
      "Requirement already satisfied: catalogue<2.1.0,>=2.0.6 in /usr/local/lib/python3.10/dist-packages (from spacy<3.8.0,>=3.7.2->en-core-web-lg==3.7.1) (2.0.10)\n",
      "Requirement already satisfied: weasel<0.4.0,>=0.1.0 in /usr/local/lib/python3.10/dist-packages (from spacy<3.8.0,>=3.7.2->en-core-web-lg==3.7.1) (0.3.4)\n",
      "Requirement already satisfied: typer<0.10.0,>=0.3.0 in /usr/local/lib/python3.10/dist-packages (from spacy<3.8.0,>=3.7.2->en-core-web-lg==3.7.1) (0.9.4)\n",
      "Requirement already satisfied: smart-open<7.0.0,>=5.2.1 in /usr/local/lib/python3.10/dist-packages (from spacy<3.8.0,>=3.7.2->en-core-web-lg==3.7.1) (6.4.0)\n",
      "Requirement already satisfied: tqdm<5.0.0,>=4.38.0 in /usr/local/lib/python3.10/dist-packages (from spacy<3.8.0,>=3.7.2->en-core-web-lg==3.7.1) (4.66.4)\n",
      "Requirement already satisfied: requests<3.0.0,>=2.13.0 in /usr/local/lib/python3.10/dist-packages (from spacy<3.8.0,>=3.7.2->en-core-web-lg==3.7.1) (2.31.0)\n",
      "Requirement already satisfied: pydantic!=1.8,!=1.8.1,<3.0.0,>=1.7.4 in /usr/local/lib/python3.10/dist-packages (from spacy<3.8.0,>=3.7.2->en-core-web-lg==3.7.1) (2.7.1)\n",
      "Requirement already satisfied: jinja2 in /usr/local/lib/python3.10/dist-packages (from spacy<3.8.0,>=3.7.2->en-core-web-lg==3.7.1) (3.1.4)\n",
      "Requirement already satisfied: setuptools in /usr/local/lib/python3.10/dist-packages (from spacy<3.8.0,>=3.7.2->en-core-web-lg==3.7.1) (67.7.2)\n",
      "Requirement already satisfied: packaging>=20.0 in /usr/local/lib/python3.10/dist-packages (from spacy<3.8.0,>=3.7.2->en-core-web-lg==3.7.1) (24.0)\n",
      "Requirement already satisfied: langcodes<4.0.0,>=3.2.0 in /usr/local/lib/python3.10/dist-packages (from spacy<3.8.0,>=3.7.2->en-core-web-lg==3.7.1) (3.4.0)\n",
      "Requirement already satisfied: numpy>=1.19.0 in /usr/local/lib/python3.10/dist-packages (from spacy<3.8.0,>=3.7.2->en-core-web-lg==3.7.1) (1.25.2)\n",
      "Requirement already satisfied: language-data>=1.2 in /usr/local/lib/python3.10/dist-packages (from langcodes<4.0.0,>=3.2.0->spacy<3.8.0,>=3.7.2->en-core-web-lg==3.7.1) (1.2.0)\n",
      "Requirement already satisfied: annotated-types>=0.4.0 in /usr/local/lib/python3.10/dist-packages (from pydantic!=1.8,!=1.8.1,<3.0.0,>=1.7.4->spacy<3.8.0,>=3.7.2->en-core-web-lg==3.7.1) (0.6.0)\n",
      "Requirement already satisfied: pydantic-core==2.18.2 in /usr/local/lib/python3.10/dist-packages (from pydantic!=1.8,!=1.8.1,<3.0.0,>=1.7.4->spacy<3.8.0,>=3.7.2->en-core-web-lg==3.7.1) (2.18.2)\n",
      "Requirement already satisfied: typing-extensions>=4.6.1 in /usr/local/lib/python3.10/dist-packages (from pydantic!=1.8,!=1.8.1,<3.0.0,>=1.7.4->spacy<3.8.0,>=3.7.2->en-core-web-lg==3.7.1) (4.11.0)\n",
      "Requirement already satisfied: charset-normalizer<4,>=2 in /usr/local/lib/python3.10/dist-packages (from requests<3.0.0,>=2.13.0->spacy<3.8.0,>=3.7.2->en-core-web-lg==3.7.1) (3.3.2)\n",
      "Requirement already satisfied: idna<4,>=2.5 in /usr/local/lib/python3.10/dist-packages (from requests<3.0.0,>=2.13.0->spacy<3.8.0,>=3.7.2->en-core-web-lg==3.7.1) (3.7)\n",
      "Requirement already satisfied: urllib3<3,>=1.21.1 in /usr/local/lib/python3.10/dist-packages (from requests<3.0.0,>=2.13.0->spacy<3.8.0,>=3.7.2->en-core-web-lg==3.7.1) (2.0.7)\n",
      "Requirement already satisfied: certifi>=2017.4.17 in /usr/local/lib/python3.10/dist-packages (from requests<3.0.0,>=2.13.0->spacy<3.8.0,>=3.7.2->en-core-web-lg==3.7.1) (2024.2.2)\n",
      "Requirement already satisfied: blis<0.8.0,>=0.7.8 in /usr/local/lib/python3.10/dist-packages (from thinc<8.3.0,>=8.2.2->spacy<3.8.0,>=3.7.2->en-core-web-lg==3.7.1) (0.7.11)\n",
      "Requirement already satisfied: confection<1.0.0,>=0.0.1 in /usr/local/lib/python3.10/dist-packages (from thinc<8.3.0,>=8.2.2->spacy<3.8.0,>=3.7.2->en-core-web-lg==3.7.1) (0.1.4)\n",
      "Requirement already satisfied: click<9.0.0,>=7.1.1 in /usr/local/lib/python3.10/dist-packages (from typer<0.10.0,>=0.3.0->spacy<3.8.0,>=3.7.2->en-core-web-lg==3.7.1) (8.1.7)\n",
      "Requirement already satisfied: cloudpathlib<0.17.0,>=0.7.0 in /usr/local/lib/python3.10/dist-packages (from weasel<0.4.0,>=0.1.0->spacy<3.8.0,>=3.7.2->en-core-web-lg==3.7.1) (0.16.0)\n",
      "Requirement already satisfied: MarkupSafe>=2.0 in /usr/local/lib/python3.10/dist-packages (from jinja2->spacy<3.8.0,>=3.7.2->en-core-web-lg==3.7.1) (2.1.5)\n",
      "Requirement already satisfied: marisa-trie>=0.7.7 in /usr/local/lib/python3.10/dist-packages (from language-data>=1.2->langcodes<4.0.0,>=3.2.0->spacy<3.8.0,>=3.7.2->en-core-web-lg==3.7.1) (1.1.1)\n",
      "Installing collected packages: en-core-web-lg\n",
      "Successfully installed en-core-web-lg-3.7.1\n",
      "\u001b[38;5;2m✔ Download and installation successful\u001b[0m\n",
      "You can now load the package via spacy.load('en_core_web_lg')\n",
      "\u001b[38;5;3m⚠ Restart to reload dependencies\u001b[0m\n",
      "If you are in a Jupyter or Colab notebook, you may need to restart Python in\n",
      "order to load all the package's dependencies. You can do this by selecting the\n",
      "'Restart kernel' or 'Restart runtime' option.\n"
     ]
    }
   ],
   "source": [
    "# Mind the ! sign at the beginning of the command that indicates that it belongs to a command line call.\n",
    "! python -m spacy download en_core_web_lg"
   ]
  },
  {
   "cell_type": "markdown",
   "metadata": {
    "id": "-Ocbw5zjU18E"
   },
   "source": [
    "## Dataset"
   ]
  },
  {
   "cell_type": "markdown",
   "metadata": {
    "id": "uKpKiFsF-KbM"
   },
   "source": [
    "We download the IMDB dataset from the web page with the `wget` command line tool. The IMDB dataset includes 50K movie reviews for natural language processing or text analytics. This is a dataset for binary sentiment classification, which includes a set of 25,000 movie reviews for training and 25,000 for testing."
   ]
  },
  {
   "cell_type": "code",
   "execution_count": null,
   "metadata": {
    "colab": {
     "base_uri": "https://localhost:8080/"
    },
    "id": "hkM7RhX2L6x8",
    "outputId": "33430f0a-7cff-4d5f-bb88-d0dfe2752596"
   },
   "outputs": [
    {
     "name": "stdout",
     "output_type": "stream",
     "text": [
      "--2024-05-15 09:02:23--  https://ai.stanford.edu/~amaas/data/sentiment/aclImdb_v1.tar.gz\n",
      "Resolving ai.stanford.edu (ai.stanford.edu)... 171.64.68.10\n",
      "Connecting to ai.stanford.edu (ai.stanford.edu)|171.64.68.10|:443... connected.\n",
      "HTTP request sent, awaiting response... 200 OK\n",
      "Length: 84125825 (80M) [application/x-gzip]\n",
      "Saving to: ‘aclImdb_v1.tar.gz’\n",
      "\n",
      "aclImdb_v1.tar.gz   100%[===================>]  80.23M  5.41MB/s    in 10s     \n",
      "\n",
      "2024-05-15 09:02:34 (7.97 MB/s) - ‘aclImdb_v1.tar.gz’ saved [84125825/84125825]\n",
      "\n",
      "imdbEr.txt  imdb.vocab\tREADME\ttest  train\n"
     ]
    }
   ],
   "source": [
    "!wget https://ai.stanford.edu/~amaas/data/sentiment/aclImdb_v1.tar.gz\n",
    "!tar xzf aclImdb_v1.tar.gz\n",
    "!ls aclImdb/\n",
    "\n",
    "# remove unnecessary files from the dataset\n",
    "shutil.rmtree('aclImdb/train/unsup')"
   ]
  },
  {
   "cell_type": "markdown",
   "metadata": {
    "id": "slD09Gm-LpUR"
   },
   "source": [
    "### Data Preprocessing"
   ]
  },
  {
   "cell_type": "markdown",
   "metadata": {
    "id": "lDFDVNWjdHpC"
   },
   "source": [
    "We load a pre-trained language model for the English language. Specifically, the `\"en_core_web_lg\"` model is being loaded, which is a large-sized language model trained on web text."
   ]
  },
  {
   "cell_type": "code",
   "execution_count": null,
   "metadata": {
    "id": "s-CbMgCwLsgY"
   },
   "outputs": [],
   "source": [
    "# Load Spacy language model\n",
    "nlp = spacy.load(\"en_core_web_lg\")\n"
   ]
  },
  {
   "cell_type": "markdown",
   "metadata": {
    "id": "UBe-ivRu-l5x"
   },
   "source": [
    "We define our preprocessing functions for removing HTML codes, converting to lowercase, lemmatizing, and removing stop words and punctuation."
   ]
  },
  {
   "cell_type": "code",
   "execution_count": null,
   "metadata": {
    "id": "ia7SNJRPVbwd"
   },
   "outputs": [],
   "source": [
    "# Creating our tokenizer function\n",
    "def spacy_tokenizer(doc, texts, file_names, label, i):\n",
    "    \"\"\"\n",
    "    Lemmatize each token\n",
    "    Convert each token into lowercase\n",
    "    Remove stop words\n",
    "    Modify integer numbers into word 'number'\n",
    "    Store word vectors\n",
    "    \"\"\"\n",
    "    clean_tokens = []\n",
    "    vectors=[]\n",
    "\n",
    "    for word in doc:\n",
    "\n",
    "      if word.like_num:\n",
    "        lemma='number'\n",
    "        clean_tokens.append(lemma)\n",
    "        #store vectors\n",
    "        vectors.append(nlp(lemma).vector)\n",
    "\n",
    "      elif not word.is_punct and not word.is_stop and len(str(word)) > 1:\n",
    "        lemma = word.lemma_.lower()\n",
    "        clean_tokens.append(lemma)\n",
    "        vectors.append(word.vector)\n",
    "\n",
    "    file_data = {\n",
    "        \"file_name\": file_names[i],\n",
    "        \"label\": label,\n",
    "        \"text\": texts[i],\n",
    "        \"clean_tokens\":clean_tokens,\n",
    "        \"vectors\": vectors,\n",
    "        \"mean_vector\":np.mean(vectors, axis=0)\n",
    "    }\n",
    "\n",
    "    return file_data\n"
   ]
  },
  {
   "cell_type": "code",
   "execution_count": null,
   "metadata": {
    "id": "niQv9ZEFW6uJ"
   },
   "outputs": [],
   "source": [
    "def read_file(filename, reviews_dir):\n",
    "  \"\"\"\n",
    "  read file and remove HTML tags\n",
    "  \"\"\"\n",
    "  with open(os.path.join(reviews_dir, filename), 'r', encoding='UTF-8') as f:\n",
    "    text = f.read()\n",
    "    tags_del = BeautifulSoup(text, \"lxml\").get_text()\n",
    "\n",
    "  return tags_del"
   ]
  },
  {
   "cell_type": "code",
   "execution_count": null,
   "metadata": {
    "id": "Oa_ZW0lhVY79"
   },
   "outputs": [],
   "source": [
    "def load_data(is_train, is_neg = True, max_files=None):\n",
    "  \"\"\"\n",
    "  Input arguments: is_train (boolean), is_neg (optional boolean, default value\n",
    "  is True), max_files (integer)\n",
    "  Output: A list of dictionaries, where each dictionary contains information\n",
    "  about a single review.\n",
    "\n",
    "  The function reads all files in the specified directory, preprocesses the text\n",
    "  by removing HTML tags, converting to lowercase, lemmatizing, and removing stop\n",
    "  words and punctuation. It then creates a dictionary for each review, which\n",
    "  contains the file name, label (0 for negative reviews, 1 for positive reviews),\n",
    "  original text, and preprocessed tokens. The function returns a list of these\n",
    "  dictionaries.\n",
    "  \"\"\"\n",
    "  start_time = time.time()\n",
    "\n",
    "  if is_train:\n",
    "      base_dir = 'aclImdb/train'\n",
    "  else:\n",
    "      base_dir = 'aclImdb/test'\n",
    "  if is_neg:\n",
    "      subdir = 'neg'\n",
    "      label = 0\n",
    "  else:\n",
    "      subdir = 'pos'\n",
    "      label = 1\n",
    "\n",
    "  reviews_dir = os.path.join(base_dir,subdir)\n",
    "  file_names = sorted(os.listdir(reviews_dir))\n",
    "\n",
    "  if max_files is not None:\n",
    "      file_names = file_names[:max_files]\n",
    "\n",
    "  texts = [read_file(filename, reviews_dir) for filename in file_names]\n",
    "  # Spacy NLP\n",
    "  docs = list(nlp.pipe(texts, disable=[\"parser\", \"ner\", \"senter\"]))\n",
    "  reviews = [spacy_tokenizer(doc, texts, file_names, label, i) for i,doc in enumerate(docs)]\n",
    "\n",
    "  print(\"Load data time: %s min\" % (round((time.time() - start_time) / 60, 3)))\n",
    "  return reviews\n"
   ]
  },
  {
   "cell_type": "code",
   "execution_count": null,
   "metadata": {
    "colab": {
     "base_uri": "https://localhost:8080/"
    },
    "id": "oBch6JF5hc7x",
    "outputId": "c64b90b9-ac23-4190-d12a-a7b0ce43d1ce"
   },
   "outputs": [
    {
     "name": "stdout",
     "output_type": "stream",
     "text": [
      "Load data time: 3.003 min\n",
      "Load data time: 3.002 min\n",
      "Load data time: 0.569 min\n",
      "Load data time: 0.586 min\n"
     ]
    }
   ],
   "source": [
    "# Loading data, pacience this takes time\n",
    "train_neg_reviews = load_data(is_train=True, max_files = 5000)\n",
    "train_pos_reviews = load_data(is_train=True, is_neg=False, max_files = 5000)\n",
    "test_neg_reviews = load_data(is_train=False, max_files = 1000)\n",
    "test_pos_reviews = load_data(is_train=False, is_neg=False, max_files = 1000)"
   ]
  },
  {
   "cell_type": "code",
   "execution_count": null,
   "metadata": {
    "colab": {
     "base_uri": "https://localhost:8080/",
     "height": 130
    },
    "id": "TewBDKvc_fIb",
    "outputId": "6485bbf4-6f7d-4490-e1b1-1ff058a9f58e"
   },
   "outputs": [
    {
     "data": {
      "application/vnd.google.colaboratory.intrinsic+json": {
       "type": "string"
      },
      "text/plain": [
       "\"Story of a man who has unnatural feelings for a pig. Starts out with a opening scene that is a terrific example of absurd comedy. A formal orchestra audience is turned into an insane, violent mob by the crazy chantings of it's singers. Unfortunately it stays absurd the WHOLE time with no general narrative eventually making it just too off putting. Even those from the era should be turned off. The cryptic dialogue would make Shakespeare seem easy to a third grader. On a technical level it's better than you might think with some good cinematography by future great Vilmos Zsigmond. Future stars Sally Kirkland and Frederic Forrest can be seen briefly.\""
      ]
     },
     "execution_count": 10,
     "metadata": {},
     "output_type": "execute_result"
    }
   ],
   "source": [
    "# Show text\n",
    "train_neg_reviews[0]['text']"
   ]
  },
  {
   "cell_type": "code",
   "execution_count": null,
   "metadata": {
    "colab": {
     "base_uri": "https://localhost:8080/",
     "height": 92
    },
    "id": "pUhWMAjHZ0oM",
    "outputId": "3ec54eaa-1c30-46df-d212-37cbd91befaf"
   },
   "outputs": [
    {
     "data": {
      "application/vnd.google.colaboratory.intrinsic+json": {
       "type": "string"
      },
      "text/plain": [
       "'story man unnatural feeling pig start opening scene terrific example absurd comedy formal orchestra audience turn insane violent mob crazy chanting singer unfortunately stay absurd time general narrative eventually make putting era turn cryptic dialogue shakespeare easy number grader technical level well think good cinematography future great vilmos zsigmond future star sally kirkland frederic forrest see briefly'"
      ]
     },
     "execution_count": 11,
     "metadata": {},
     "output_type": "execute_result"
    }
   ],
   "source": [
    "# Show clean tokens\n",
    "' '.join(train_neg_reviews[0]['clean_tokens'])\n"
   ]
  },
  {
   "cell_type": "markdown",
   "metadata": {
    "id": "HA62ElTPOFj_"
   },
   "source": [
    "Let's build dataframes for better data manipulation."
   ]
  },
  {
   "cell_type": "code",
   "execution_count": null,
   "metadata": {
    "id": "caF0Z6HAj8FR"
   },
   "outputs": [],
   "source": [
    "# Build DataFrames for training and testing\n",
    "train_data = pd.DataFrame(train_pos_reviews+train_neg_reviews).sample(frac = 1)\n",
    "test_data = pd.DataFrame(test_pos_reviews+test_neg_reviews).sample(frac = 1)\n"
   ]
  },
  {
   "cell_type": "code",
   "execution_count": null,
   "metadata": {
    "id": "wAtWZ-tnrlfq"
   },
   "outputs": [],
   "source": [
    "# Add clean_tokens as a string\n",
    "train_data['clean_texts'] = train_data.apply(lambda row: ' '.join(row['clean_tokens']), axis=1)\n",
    "test_data['clean_texts'] = test_data.apply(lambda row: ' '.join(row['clean_tokens']), axis=1)"
   ]
  },
  {
   "cell_type": "code",
   "execution_count": null,
   "metadata": {
    "colab": {
     "base_uri": "https://localhost:8080/",
     "height": 381
    },
    "id": "2x76cqvij-1S",
    "outputId": "935b244f-6e4e-49d5-efa2-adee4c68dbc2"
   },
   "outputs": [
    {
     "data": {
      "application/vnd.google.colaboratory.intrinsic+json": {
       "summary": "{\n  \"name\": \"train_data\",\n  \"rows\": 10000,\n  \"fields\": [\n    {\n      \"column\": \"file_name\",\n      \"properties\": {\n        \"dtype\": \"string\",\n        \"num_unique_values\": 10000,\n        \"samples\": [\n          \"1984_1.txt\",\n          \"11471_3.txt\",\n          \"2805_1.txt\"\n        ],\n        \"semantic_type\": \"\",\n        \"description\": \"\"\n      }\n    },\n    {\n      \"column\": \"label\",\n      \"properties\": {\n        \"dtype\": \"number\",\n        \"std\": 0,\n        \"min\": 0,\n        \"max\": 1,\n        \"num_unique_values\": 2,\n        \"samples\": [\n          1,\n          0\n        ],\n        \"semantic_type\": \"\",\n        \"description\": \"\"\n      }\n    },\n    {\n      \"column\": \"text\",\n      \"properties\": {\n        \"dtype\": \"string\",\n        \"num_unique_values\": 9979,\n        \"samples\": [\n          \"Leonard Maltin must've been watching some other movie. (Though I find his Guide to be quite a valuable resource, please disregard his comments on this one.) He states \\\"starts off well then fizzles\\\" when it's really the reverse - \\\"starts off tepid then catches fire\\\". The plot is about as simple as it gets. Happy Mom, Happy Dad and Happy Son take a vacation at an isolated beach, Dad incapacitated in accident, Mom runs off to get help, meets up with dangerous escaped convict. Mom tries to trick convict into helping while Dad waits and hangs on for dear life.Good white-knuckler given an electric jolt by Ralph Meeker, appearing suddenly (the director, John Sturges, films it in a clever way that will make you gasp) around halfway through as the cunning, desperate criminal. Meeker is an unusually flippant, reckless actor (at least here and in the classic \\\"Kiss Me Deadly\\\") and he happily snatches the keys to the film's narrative and speeds off with the top down. His character has a habit of grinning childishly and saying \\\"Pretty neat, huh?\\\" when he's especially pleased with his misdeeds. There is a funny break in the action when they get a flat tire and he tersely instructs his hostage, Barbara Stanwyck, \\\"Don't go away\\\". She fires back \\\"Where would I go?\\\" (they're in the middle of nowhere) and he realizes sitcom-ishly \\\"Yeah, that's right\\\". The friction between them is a hoot.There are flaws, somewhat ridiculous ones. There's one scene where the police, who have been chasing after Meeker for some time, stop Stanwyck's car and to evade detection Meeker rests his head on her shoulder like a loving husband supposedly would, and pretends to be asleep as she's being questioned. A. He looks conspicuously un-masculine in this pose and B. I think it's safe to say that any adult who appears to be asleep during an encounter with law enforcement would certainly arouse suspicion.Still a sturdy thriller which builds to an exciting and edifying conclusion.\",\n          \"This is a truly awful \\\"B\\\" movie. It is witless and often embarrassing. The plot, the basic \\\"making into show business\\\" routine, is almost nonexistent. In fact, the film is merely an excuse to push the war effort and highlight some popular music groups of 1942, including the Mills Brothers, Count Basie, Duke Ellington, Bob Crosby, and Freddy Slack. Each group gets about the standard three minutes, the exception being the Mills Brothers, who for some reason warranted two numbers. Ann Miller doesn't get to dance until the last couple of minutes of the film, and she has little to do but strut her stuff amid a barrage of patriotic propaganda.The most interesting moment in the film, in my view, occurred in the Duke Ellington segment. The band appears to be playing in a train, standing in awkward positions. (In the deep South at the time, the band was segregated in railroad cars when traveling.) Johnny Hodges is seen next to Duke, and Harry Carney may also be identified. In the last moments of the film, trumpeter/violinist Ray Nance rushes down the aisle to the camera and does an \\\"uncle Tom,\\\" bugging his eyes and wiggling his head the way Willy Best did in many films. For modern viewers, especially jazz fans, this homage to segregation is sad indeed. Some movies go best unseen.\"\n        ],\n        \"semantic_type\": \"\",\n        \"description\": \"\"\n      }\n    },\n    {\n      \"column\": \"clean_tokens\",\n      \"properties\": {\n        \"dtype\": \"object\",\n        \"semantic_type\": \"\",\n        \"description\": \"\"\n      }\n    },\n    {\n      \"column\": \"vectors\",\n      \"properties\": {\n        \"dtype\": \"object\",\n        \"semantic_type\": \"\",\n        \"description\": \"\"\n      }\n    },\n    {\n      \"column\": \"mean_vector\",\n      \"properties\": {\n        \"dtype\": \"object\",\n        \"semantic_type\": \"\",\n        \"description\": \"\"\n      }\n    },\n    {\n      \"column\": \"clean_texts\",\n      \"properties\": {\n        \"dtype\": \"string\",\n        \"num_unique_values\": 9978,\n        \"samples\": [\n          \"hammer movie take new fantasy world world hammer movie happen guardian abyss number type movie adventure deep occult hypnosis bring different type horror fantasy unforgettable movie number\",\n          \"make midnight cowboy successful movie way joe buck bond ratso rizzo series hardship affect glimpse hope film character hard reality beset film type optimism man find humanity film feature jon voight fine performance probably dustin hoffman rest cast unknown round fine series character actor include cowpoke bus start film interest andy warhol apprentice paul morrissey show briefly party scene see movie essential check\"\n        ],\n        \"semantic_type\": \"\",\n        \"description\": \"\"\n      }\n    }\n  ]\n}",
       "type": "dataframe",
       "variable_name": "train_data"
      },
      "text/html": [
       "\n",
       "  <div id=\"df-6b9f3d5a-23f4-4430-b606-0949292e37b1\" class=\"colab-df-container\">\n",
       "    <div>\n",
       "<style scoped>\n",
       "    .dataframe tbody tr th:only-of-type {\n",
       "        vertical-align: middle;\n",
       "    }\n",
       "\n",
       "    .dataframe tbody tr th {\n",
       "        vertical-align: top;\n",
       "    }\n",
       "\n",
       "    .dataframe thead th {\n",
       "        text-align: right;\n",
       "    }\n",
       "</style>\n",
       "<table border=\"1\" class=\"dataframe\">\n",
       "  <thead>\n",
       "    <tr style=\"text-align: right;\">\n",
       "      <th></th>\n",
       "      <th>file_name</th>\n",
       "      <th>label</th>\n",
       "      <th>text</th>\n",
       "      <th>clean_tokens</th>\n",
       "      <th>vectors</th>\n",
       "      <th>mean_vector</th>\n",
       "      <th>clean_texts</th>\n",
       "    </tr>\n",
       "  </thead>\n",
       "  <tbody>\n",
       "    <tr>\n",
       "      <th>9222</th>\n",
       "      <td>2550_1.txt</td>\n",
       "      <td>0</td>\n",
       "      <td>It was the tag-line \"in the tradition of Ameri...</td>\n",
       "      <td>[tag, line, tradition, american, pie, fool, re...</td>\n",
       "      <td>[[-0.68064, 7.0798, 3.7319, -2.5934, 8.1413, 1...</td>\n",
       "      <td>[-0.7510977, 0.51795536, -1.2827002, -0.726730...</td>\n",
       "      <td>tag line tradition american pie fool rent movi...</td>\n",
       "    </tr>\n",
       "    <tr>\n",
       "      <th>4410</th>\n",
       "      <td>271_10.txt</td>\n",
       "      <td>1</td>\n",
       "      <td>It's all about Mitzi. I loved her in this. And...</td>\n",
       "      <td>[mitzi, love, look, fantastic, love, lifetime,...</td>\n",
       "      <td>[[0.32252, 0.4749, -1.5764, -0.47933, -1.3597,...</td>\n",
       "      <td>[-0.4529741, -0.074245594, -1.7933736, -1.2653...</td>\n",
       "      <td>mitzi love look fantastic love lifetime sunday...</td>\n",
       "    </tr>\n",
       "    <tr>\n",
       "      <th>4937</th>\n",
       "      <td>3194_9.txt</td>\n",
       "      <td>1</td>\n",
       "      <td>There has never been anything like it, that's ...</td>\n",
       "      <td>[like, sure, episodic, seemingly, redundant, t...</td>\n",
       "      <td>[[-2.3334, -1.3695, -1.133, -0.68461, -1.8482,...</td>\n",
       "      <td>[-0.46072513, 0.42707735, -1.2368827, -0.66611...</td>\n",
       "      <td>like sure episodic seemingly redundant trilogy...</td>\n",
       "    </tr>\n",
       "    <tr>\n",
       "      <th>7396</th>\n",
       "      <td>12157_1.txt</td>\n",
       "      <td>0</td>\n",
       "      <td>I couldn't believe this terrible movie was act...</td>\n",
       "      <td>[believe, terrible, movie, actually, bad, acto...</td>\n",
       "      <td>[[0.087598, 1.5972, -1.0649, -0.39302, 0.22907...</td>\n",
       "      <td>[-0.5629624, 0.5780861, -1.6523788, -0.9942712...</td>\n",
       "      <td>believe terrible movie actually bad actor find...</td>\n",
       "    </tr>\n",
       "    <tr>\n",
       "      <th>5009</th>\n",
       "      <td>10008_2.txt</td>\n",
       "      <td>0</td>\n",
       "      <td>The film is bad. There is no other way to say ...</td>\n",
       "      <td>[film, bad, way, story, weak, outdated, especi...</td>\n",
       "      <td>[[-6.2225, -1.0184, -3.9655, -9.4876, -2.0239,...</td>\n",
       "      <td>[-0.65270346, 0.48410276, -1.8053297, -1.06038...</td>\n",
       "      <td>film bad way story weak outdated especially co...</td>\n",
       "    </tr>\n",
       "  </tbody>\n",
       "</table>\n",
       "</div>\n",
       "    <div class=\"colab-df-buttons\">\n",
       "\n",
       "  <div class=\"colab-df-container\">\n",
       "    <button class=\"colab-df-convert\" onclick=\"convertToInteractive('df-6b9f3d5a-23f4-4430-b606-0949292e37b1')\"\n",
       "            title=\"Convert this dataframe to an interactive table.\"\n",
       "            style=\"display:none;\">\n",
       "\n",
       "  <svg xmlns=\"http://www.w3.org/2000/svg\" height=\"24px\" viewBox=\"0 -960 960 960\">\n",
       "    <path d=\"M120-120v-720h720v720H120Zm60-500h600v-160H180v160Zm220 220h160v-160H400v160Zm0 220h160v-160H400v160ZM180-400h160v-160H180v160Zm440 0h160v-160H620v160ZM180-180h160v-160H180v160Zm440 0h160v-160H620v160Z\"/>\n",
       "  </svg>\n",
       "    </button>\n",
       "\n",
       "  <style>\n",
       "    .colab-df-container {\n",
       "      display:flex;\n",
       "      gap: 12px;\n",
       "    }\n",
       "\n",
       "    .colab-df-convert {\n",
       "      background-color: #E8F0FE;\n",
       "      border: none;\n",
       "      border-radius: 50%;\n",
       "      cursor: pointer;\n",
       "      display: none;\n",
       "      fill: #1967D2;\n",
       "      height: 32px;\n",
       "      padding: 0 0 0 0;\n",
       "      width: 32px;\n",
       "    }\n",
       "\n",
       "    .colab-df-convert:hover {\n",
       "      background-color: #E2EBFA;\n",
       "      box-shadow: 0px 1px 2px rgba(60, 64, 67, 0.3), 0px 1px 3px 1px rgba(60, 64, 67, 0.15);\n",
       "      fill: #174EA6;\n",
       "    }\n",
       "\n",
       "    .colab-df-buttons div {\n",
       "      margin-bottom: 4px;\n",
       "    }\n",
       "\n",
       "    [theme=dark] .colab-df-convert {\n",
       "      background-color: #3B4455;\n",
       "      fill: #D2E3FC;\n",
       "    }\n",
       "\n",
       "    [theme=dark] .colab-df-convert:hover {\n",
       "      background-color: #434B5C;\n",
       "      box-shadow: 0px 1px 3px 1px rgba(0, 0, 0, 0.15);\n",
       "      filter: drop-shadow(0px 1px 2px rgba(0, 0, 0, 0.3));\n",
       "      fill: #FFFFFF;\n",
       "    }\n",
       "  </style>\n",
       "\n",
       "    <script>\n",
       "      const buttonEl =\n",
       "        document.querySelector('#df-6b9f3d5a-23f4-4430-b606-0949292e37b1 button.colab-df-convert');\n",
       "      buttonEl.style.display =\n",
       "        google.colab.kernel.accessAllowed ? 'block' : 'none';\n",
       "\n",
       "      async function convertToInteractive(key) {\n",
       "        const element = document.querySelector('#df-6b9f3d5a-23f4-4430-b606-0949292e37b1');\n",
       "        const dataTable =\n",
       "          await google.colab.kernel.invokeFunction('convertToInteractive',\n",
       "                                                    [key], {});\n",
       "        if (!dataTable) return;\n",
       "\n",
       "        const docLinkHtml = 'Like what you see? Visit the ' +\n",
       "          '<a target=\"_blank\" href=https://colab.research.google.com/notebooks/data_table.ipynb>data table notebook</a>'\n",
       "          + ' to learn more about interactive tables.';\n",
       "        element.innerHTML = '';\n",
       "        dataTable['output_type'] = 'display_data';\n",
       "        await google.colab.output.renderOutput(dataTable, element);\n",
       "        const docLink = document.createElement('div');\n",
       "        docLink.innerHTML = docLinkHtml;\n",
       "        element.appendChild(docLink);\n",
       "      }\n",
       "    </script>\n",
       "  </div>\n",
       "\n",
       "\n",
       "<div id=\"df-f1aed33a-d50e-4641-a784-9fb641973cd7\">\n",
       "  <button class=\"colab-df-quickchart\" onclick=\"quickchart('df-f1aed33a-d50e-4641-a784-9fb641973cd7')\"\n",
       "            title=\"Suggest charts\"\n",
       "            style=\"display:none;\">\n",
       "\n",
       "<svg xmlns=\"http://www.w3.org/2000/svg\" height=\"24px\"viewBox=\"0 0 24 24\"\n",
       "     width=\"24px\">\n",
       "    <g>\n",
       "        <path d=\"M19 3H5c-1.1 0-2 .9-2 2v14c0 1.1.9 2 2 2h14c1.1 0 2-.9 2-2V5c0-1.1-.9-2-2-2zM9 17H7v-7h2v7zm4 0h-2V7h2v10zm4 0h-2v-4h2v4z\"/>\n",
       "    </g>\n",
       "</svg>\n",
       "  </button>\n",
       "\n",
       "<style>\n",
       "  .colab-df-quickchart {\n",
       "      --bg-color: #E8F0FE;\n",
       "      --fill-color: #1967D2;\n",
       "      --hover-bg-color: #E2EBFA;\n",
       "      --hover-fill-color: #174EA6;\n",
       "      --disabled-fill-color: #AAA;\n",
       "      --disabled-bg-color: #DDD;\n",
       "  }\n",
       "\n",
       "  [theme=dark] .colab-df-quickchart {\n",
       "      --bg-color: #3B4455;\n",
       "      --fill-color: #D2E3FC;\n",
       "      --hover-bg-color: #434B5C;\n",
       "      --hover-fill-color: #FFFFFF;\n",
       "      --disabled-bg-color: #3B4455;\n",
       "      --disabled-fill-color: #666;\n",
       "  }\n",
       "\n",
       "  .colab-df-quickchart {\n",
       "    background-color: var(--bg-color);\n",
       "    border: none;\n",
       "    border-radius: 50%;\n",
       "    cursor: pointer;\n",
       "    display: none;\n",
       "    fill: var(--fill-color);\n",
       "    height: 32px;\n",
       "    padding: 0;\n",
       "    width: 32px;\n",
       "  }\n",
       "\n",
       "  .colab-df-quickchart:hover {\n",
       "    background-color: var(--hover-bg-color);\n",
       "    box-shadow: 0 1px 2px rgba(60, 64, 67, 0.3), 0 1px 3px 1px rgba(60, 64, 67, 0.15);\n",
       "    fill: var(--button-hover-fill-color);\n",
       "  }\n",
       "\n",
       "  .colab-df-quickchart-complete:disabled,\n",
       "  .colab-df-quickchart-complete:disabled:hover {\n",
       "    background-color: var(--disabled-bg-color);\n",
       "    fill: var(--disabled-fill-color);\n",
       "    box-shadow: none;\n",
       "  }\n",
       "\n",
       "  .colab-df-spinner {\n",
       "    border: 2px solid var(--fill-color);\n",
       "    border-color: transparent;\n",
       "    border-bottom-color: var(--fill-color);\n",
       "    animation:\n",
       "      spin 1s steps(1) infinite;\n",
       "  }\n",
       "\n",
       "  @keyframes spin {\n",
       "    0% {\n",
       "      border-color: transparent;\n",
       "      border-bottom-color: var(--fill-color);\n",
       "      border-left-color: var(--fill-color);\n",
       "    }\n",
       "    20% {\n",
       "      border-color: transparent;\n",
       "      border-left-color: var(--fill-color);\n",
       "      border-top-color: var(--fill-color);\n",
       "    }\n",
       "    30% {\n",
       "      border-color: transparent;\n",
       "      border-left-color: var(--fill-color);\n",
       "      border-top-color: var(--fill-color);\n",
       "      border-right-color: var(--fill-color);\n",
       "    }\n",
       "    40% {\n",
       "      border-color: transparent;\n",
       "      border-right-color: var(--fill-color);\n",
       "      border-top-color: var(--fill-color);\n",
       "    }\n",
       "    60% {\n",
       "      border-color: transparent;\n",
       "      border-right-color: var(--fill-color);\n",
       "    }\n",
       "    80% {\n",
       "      border-color: transparent;\n",
       "      border-right-color: var(--fill-color);\n",
       "      border-bottom-color: var(--fill-color);\n",
       "    }\n",
       "    90% {\n",
       "      border-color: transparent;\n",
       "      border-bottom-color: var(--fill-color);\n",
       "    }\n",
       "  }\n",
       "</style>\n",
       "\n",
       "  <script>\n",
       "    async function quickchart(key) {\n",
       "      const quickchartButtonEl =\n",
       "        document.querySelector('#' + key + ' button');\n",
       "      quickchartButtonEl.disabled = true;  // To prevent multiple clicks.\n",
       "      quickchartButtonEl.classList.add('colab-df-spinner');\n",
       "      try {\n",
       "        const charts = await google.colab.kernel.invokeFunction(\n",
       "            'suggestCharts', [key], {});\n",
       "      } catch (error) {\n",
       "        console.error('Error during call to suggestCharts:', error);\n",
       "      }\n",
       "      quickchartButtonEl.classList.remove('colab-df-spinner');\n",
       "      quickchartButtonEl.classList.add('colab-df-quickchart-complete');\n",
       "    }\n",
       "    (() => {\n",
       "      let quickchartButtonEl =\n",
       "        document.querySelector('#df-f1aed33a-d50e-4641-a784-9fb641973cd7 button');\n",
       "      quickchartButtonEl.style.display =\n",
       "        google.colab.kernel.accessAllowed ? 'block' : 'none';\n",
       "    })();\n",
       "  </script>\n",
       "</div>\n",
       "    </div>\n",
       "  </div>\n"
      ],
      "text/plain": [
       "        file_name  label                                               text  \\\n",
       "9222   2550_1.txt      0  It was the tag-line \"in the tradition of Ameri...   \n",
       "4410   271_10.txt      1  It's all about Mitzi. I loved her in this. And...   \n",
       "4937   3194_9.txt      1  There has never been anything like it, that's ...   \n",
       "7396  12157_1.txt      0  I couldn't believe this terrible movie was act...   \n",
       "5009  10008_2.txt      0  The film is bad. There is no other way to say ...   \n",
       "\n",
       "                                           clean_tokens  \\\n",
       "9222  [tag, line, tradition, american, pie, fool, re...   \n",
       "4410  [mitzi, love, look, fantastic, love, lifetime,...   \n",
       "4937  [like, sure, episodic, seemingly, redundant, t...   \n",
       "7396  [believe, terrible, movie, actually, bad, acto...   \n",
       "5009  [film, bad, way, story, weak, outdated, especi...   \n",
       "\n",
       "                                                vectors  \\\n",
       "9222  [[-0.68064, 7.0798, 3.7319, -2.5934, 8.1413, 1...   \n",
       "4410  [[0.32252, 0.4749, -1.5764, -0.47933, -1.3597,...   \n",
       "4937  [[-2.3334, -1.3695, -1.133, -0.68461, -1.8482,...   \n",
       "7396  [[0.087598, 1.5972, -1.0649, -0.39302, 0.22907...   \n",
       "5009  [[-6.2225, -1.0184, -3.9655, -9.4876, -2.0239,...   \n",
       "\n",
       "                                            mean_vector  \\\n",
       "9222  [-0.7510977, 0.51795536, -1.2827002, -0.726730...   \n",
       "4410  [-0.4529741, -0.074245594, -1.7933736, -1.2653...   \n",
       "4937  [-0.46072513, 0.42707735, -1.2368827, -0.66611...   \n",
       "7396  [-0.5629624, 0.5780861, -1.6523788, -0.9942712...   \n",
       "5009  [-0.65270346, 0.48410276, -1.8053297, -1.06038...   \n",
       "\n",
       "                                            clean_texts  \n",
       "9222  tag line tradition american pie fool rent movi...  \n",
       "4410  mitzi love look fantastic love lifetime sunday...  \n",
       "4937  like sure episodic seemingly redundant trilogy...  \n",
       "7396  believe terrible movie actually bad actor find...  \n",
       "5009  film bad way story weak outdated especially co...  "
      ]
     },
     "execution_count": 14,
     "metadata": {},
     "output_type": "execute_result"
    }
   ],
   "source": [
    "train_data.head()"
   ]
  },
  {
   "cell_type": "code",
   "execution_count": null,
   "metadata": {
    "colab": {
     "base_uri": "https://localhost:8080/"
    },
    "id": "W-b5FN4M3M7q",
    "outputId": "50411b07-b348-494e-cf34-420cec199a7d"
   },
   "outputs": [
    {
     "data": {
      "text/plain": [
       "10000"
      ]
     },
     "execution_count": 15,
     "metadata": {},
     "output_type": "execute_result"
    }
   ],
   "source": [
    "len(train_data)"
   ]
  },
  {
   "cell_type": "code",
   "execution_count": null,
   "metadata": {
    "colab": {
     "base_uri": "https://localhost:8080/",
     "height": 381
    },
    "id": "ZL6NCWbj5ypX",
    "outputId": "f6ffbab1-304c-4f25-8ff2-a2720260be6c"
   },
   "outputs": [
    {
     "data": {
      "application/vnd.google.colaboratory.intrinsic+json": {
       "summary": "{\n  \"name\": \"test_data\",\n  \"rows\": 2000,\n  \"fields\": [\n    {\n      \"column\": \"file_name\",\n      \"properties\": {\n        \"dtype\": \"string\",\n        \"num_unique_values\": 2000,\n        \"samples\": [\n          \"10454_1.txt\",\n          \"10702_1.txt\",\n          \"10564_7.txt\"\n        ],\n        \"semantic_type\": \"\",\n        \"description\": \"\"\n      }\n    },\n    {\n      \"column\": \"label\",\n      \"properties\": {\n        \"dtype\": \"number\",\n        \"std\": 0,\n        \"min\": 0,\n        \"max\": 1,\n        \"num_unique_values\": 2,\n        \"samples\": [\n          1,\n          0\n        ],\n        \"semantic_type\": \"\",\n        \"description\": \"\"\n      }\n    },\n    {\n      \"column\": \"text\",\n      \"properties\": {\n        \"dtype\": \"string\",\n        \"num_unique_values\": 1997,\n        \"samples\": [\n          \"Michael Haneke is known for his disturbing movies like \\\"Funny Games\\\". This time he adopted Elfriede Jelineks \\\"Die Klavierspielerin\\\", which is probably her best work so far. Jelinek always writes about abusive behaviour in families, and especially of the suppression of women in a patriarchal society.Erika Kohut (Isabelle Huppert) works as a piano teacher at the Viennese Consevatory. She still lives with her mother (Annie Giradot), they even sleep in the same bed (already a hint of something strange). Erika bullies her students the same way she's bullied by her mother and secretly watches porn movies and plays sadomasochistic games with herself. A student, Walter (Benoit Magimel), falls in love with her, but she refuses to simply sleep with him. She wants to play her games with him, but he's disgusted. He reluctantly follows her rules, which means disaster for both of them.Haneke has a very clear picture language, everything is filmed in a almost spartanic way, so the complex characters and story are enhanced.People who don't know Austria very well may be don't realize how essential the setting is for the story. Jelinek (as well as other great Austrian writers like Thomas Bernhard) suffers from the coldness and casualness in Austrian families and society. Austrians (at least Viennese people) are often unable to articulate their pains, wishes, they suppress their emotions, so there often enough is no real love, affection and nearness in their families. In a society, where it's more important to show a perfect facade to society (even if this means to protect crimes within families as Erika and her mother protect Walters rape of Erika to avoid a scandal) than to deal with your emotional problems it's probably no wonder that Sigmund Freud founded the psychoanalysis in Vienna. Erika has a cold and distant relationship with her mother, they only time they share some emotions is very violent and not at all loving. Erika replaces her hidden emotions with wishes for violence, so that she can finally release some feelings. But she has nobody who really wants to speak about her emotions so in the end she has to stab herself to ease her inner pain.Isabelle Huppert shows her best performance of her career (as well of most other actresses). With a unsmiling face you often see only a hint of emotion in her face, a quick smile, a glance with her eyes. And in the end her pain is masterly displayed without a single tear. Benoit Magimel and Annie Giradot also turn in powerful performances, but the movie belongs to Huppert.\",\n          \"Bone Eater is set in a small desert town in Alabama where property developer Dick Krantz (Jim Storm) is financing the building of a huge resort. Late one night three of his workers Riley (Timothy Starks), Hansen (Adrian Alvarado) & Miller (Paul Rae) are digging foundations in the desert when they unearth what looks like a tomahawk axe, unfortunately for them an ancient Native American demon called the bone eater comes along & kills them. Local Sheriff Steve Evans (Bruce Boxleitner) soon has Krantz breathing down his neck as the construction of his resort grinds to a halt, Sheriff Evans also has to deal with the bone eater demon as it kills anyone it comes across...You know I consider myself a fairly big fan of the horror & sci-fi genre, I certainly don't think my opinion is worth more than anyone else's (unlike many here on the IMDb...) but please believe me when I say that Bone Eater is the worst Sci-Fi Channel 'Creature Feature' I have ever seen & it's up against some damned strong competition. As a horror & sci-fi fan there are two names that when involved with a film send shudders down my spine in anticipation of how bad it will turn out, those names are Jesus 'I have no talent' Franco who had nothing to do with Bone Eater & Jim Wynorski who directed the absolute disaster that is Bone Eater. In fact Bone Eater is so bad Wynorski hid under the pseudonym Bob Robertson, when a director as bad as Wynorski hides under a pseudonym you know the film must be bad. Where do I even start? Bone Eater is quite simply the worst film I have seen this year & is so bad it's untrue, the story is awful, the script is sloppy (at one point Sheriff Evans tells Kia to meet him at the hospital but when they meet there later he acts surprised & says 'what are you doing here?', at one point Sheriff Evans triumphantly claims that we are in the twentieth century & that ancient Native American demons are nonsense although actually we are in the twenty first century now, there's a part when a woman tells in flashback the story where three men awaken the Bone Eater & it kills them but since it killed all three of them how did anyone else know about it for it to be passed down in legend?) & at times it gets more than a little bit embarrassing. The character's are horrible clich\\u00e9s, the small town Sheriff who saves the day, his daughter becomes involved which adds some personal motivation & as for the Native Americans there's an old wise man, a young hot head who hates 'white man' & a young woman who is the voice of reason between the two who have names like Storm Cloud & Black Hawk. The film is as boring as hell, nothing happens, the story is awful, it's full of plot holes & lapses in any sort of logic, the set-pieces are terrible, there's no horror or gore or suspense or mystery & Bone Eater is just the sort of film that makes you lose the will to live.Bone Eater has some of the worst CGI computer effects I've seen in a while, from the daft looking stiff moving bone eater creature itself which is just a selection of bones magically held together to a motorbike jumping a large gap to an awful CGI truck crashing over the edge of a cliff to a van being tossed to one side by the bone eater. Whenever the bone eater needs to get some speed up he causes a large horse to form from the sand & dust & rides it! In principal this is actually quite a neat idea but it looks awful & the scenes even have cheesy cowboy music on the soundtrack! There is one pointless scene at the end when Sheriff Evans cuts his own arm (why?) & it bleeds but apart from that there isn't a single drop of blood in the thing, whenever the bone eater kills someone they usually just disappear in a cloud of dust, boring. The hilariously goofy climatic showdown between Sheriff Evans & the bone eater has to be seen to be believed, Sheriff Evans goes native on horseback complete with tribal war paint on his face while the bone eater also rides his dust horse & they have a sort of jousting contest which is just to bad to describe properly.With a supposed budget of about $700,000 Bone Eater is filmed in a very bland, forgettable & flat way, there's no sense of style here at all. The majority of the film takes place in bright sunlight & if you watch it on a decent telly then the desert scenery is quite nice on occasion. There are several veteran 'known' actors really slumming it here, Boxleitner plays exactly the same role as in the similarly themed but much better 'Creature Feature' Snakehead Terror (2004), William Katt will obviously put his name to any crap as long as he gets paid while ex Star Trek man Walter Koenig must be really desperate to agree to appear in this.Bone Eater is a truly atrocious 'Creature Feature', there's really not much more you can say about it other than to steer well clear of it. The worst film ever to appear on the Sci-Fi Channel & that's saying something, isn't it?\"\n        ],\n        \"semantic_type\": \"\",\n        \"description\": \"\"\n      }\n    },\n    {\n      \"column\": \"clean_tokens\",\n      \"properties\": {\n        \"dtype\": \"object\",\n        \"semantic_type\": \"\",\n        \"description\": \"\"\n      }\n    },\n    {\n      \"column\": \"vectors\",\n      \"properties\": {\n        \"dtype\": \"object\",\n        \"semantic_type\": \"\",\n        \"description\": \"\"\n      }\n    },\n    {\n      \"column\": \"mean_vector\",\n      \"properties\": {\n        \"dtype\": \"object\",\n        \"semantic_type\": \"\",\n        \"description\": \"\"\n      }\n    },\n    {\n      \"column\": \"clean_texts\",\n      \"properties\": {\n        \"dtype\": \"string\",\n        \"num_unique_values\": 1997,\n        \"samples\": [\n          \"michael haneke know disturbing movie like funny games time adopt elfriede jelineks die klavierspielerin probably good work far jelinek write abusive behaviour family especially suppression woman patriarchal society erika kohut isabelle huppert work piano teacher viennese consevatory live mother annie giradot sleep bed hint strange erika bully student way bully mother secretly watch porn movie play sadomasochistic game student walter benoit magimel fall love refuse simply sleep want play game disgusted reluctantly follow rule mean disaster haneke clear picture language film spartanic way complex character story enhance people know austria realize essential setting story jelinek great austrian writer like thomas bernhard suffer coldness casualness austrian family society austrians viennese people unable articulate pain wish suppress emotion real love affection nearness family society important perfect facade society mean protect crime family erika mother protect walters rape erika avoid scandal deal emotional problem probably wonder sigmund freud found psychoanalysis vienna erika cold distant relationship mother time share emotion violent love erika replace hide emotion wish violence finally release feeling want speak emotion end stab ease inner pain isabelle huppert show good performance career actress unsmile face hint emotion face quick smile glance eye end pain masterly display single tear benoit magimel annie giradot turn powerful performance movie belong huppert\",\n          \"bone eater set small desert town alabama property developer dick krantz jim storm finance building huge resort late number night number worker riley timothy starks hansen adrian alvarado miller paul rae dig foundation desert unearth look like tomahawk axe unfortunately ancient native american demon call bone eater come kill local sheriff steve evans bruce boxleitner soon krantz breathe neck construction resort grind halt sheriff evans deal bone eater demon kill come know consider fairly big fan horror sci fi genre certainly think opinion worth unlike imdb believe bone eater bad sci fi channel creature feature see damned strong competition horror sci fi fan number name involve film send shudder spine anticipation bad turn name jesus talent franco bone eater jim wynorski direct absolute disaster bone eater fact bone eater bad wynorski hide pseudonym bob robertson director bad wynorski hide pseudonym know film bad start bone eater simply bad film see year bad untrue story awful script sloppy number point sheriff evans tell kia meet hospital meet later act surprised say number point sheriff evans triumphantly claim number century ancient native american demon nonsense actually number number century woman tell flashback story number man awaken bone eater kill kill number know pass legend time get little bit embarrassing character horrible clich\\u00e9s small town sheriff save day daughter involved add personal motivation native americans old wise man young hot head hate white man young woman voice reason number name like storm cloud black hawk film boring hell happen story awful plot hole lapse sort logic set piece terrible horror gore suspense mystery bone eater sort film make lose live bone eater bad cgi computer effect see daft look stiff move bone eater creature selection bone magically hold motorbike jump large gap awful cgi truck crash edge cliff van toss number bone eater bone eater need speed cause large horse form sand dust ride principal actually neat idea look awful scene cheesy cowboy music soundtrack number pointless scene end sheriff evans cut arm bleed apart single drop blood thing bone eater kill usually disappear cloud dust boring hilariously goofy climatic showdown sheriff evans bone eater see believe sheriff evans go native horseback complete tribal war paint face bone eater ride dust horse sort joust contest bad describe properly supposed budget number bone eater film bland forgettable flat way sense style majority film take place bright sunlight watch decent telly desert scenery nice occasion veteran know actor slum boxleitner play exactly role similarly themed well creature feature snakehead terror number william katt obviously crap long get pay ex star trek man walter koenig desperate agree appear bone eater truly atrocious creature feature steer clear bad film appear sci fi channel say\"\n        ],\n        \"semantic_type\": \"\",\n        \"description\": \"\"\n      }\n    }\n  ]\n}",
       "type": "dataframe",
       "variable_name": "test_data"
      },
      "text/html": [
       "\n",
       "  <div id=\"df-9a98540b-2b0b-40cc-a0a3-6a51f2f2dccc\" class=\"colab-df-container\">\n",
       "    <div>\n",
       "<style scoped>\n",
       "    .dataframe tbody tr th:only-of-type {\n",
       "        vertical-align: middle;\n",
       "    }\n",
       "\n",
       "    .dataframe tbody tr th {\n",
       "        vertical-align: top;\n",
       "    }\n",
       "\n",
       "    .dataframe thead th {\n",
       "        text-align: right;\n",
       "    }\n",
       "</style>\n",
       "<table border=\"1\" class=\"dataframe\">\n",
       "  <thead>\n",
       "    <tr style=\"text-align: right;\">\n",
       "      <th></th>\n",
       "      <th>file_name</th>\n",
       "      <th>label</th>\n",
       "      <th>text</th>\n",
       "      <th>clean_tokens</th>\n",
       "      <th>vectors</th>\n",
       "      <th>mean_vector</th>\n",
       "      <th>clean_texts</th>\n",
       "    </tr>\n",
       "  </thead>\n",
       "  <tbody>\n",
       "    <tr>\n",
       "      <th>1733</th>\n",
       "      <td>10660_4.txt</td>\n",
       "      <td>0</td>\n",
       "      <td>I do not like Himesh Reshamiya. I do not like ...</td>\n",
       "      <td>[like, himesh, reshamiya, like, singing, song,...</td>\n",
       "      <td>[[-2.3334, -1.3695, -1.133, -0.68461, -1.8482,...</td>\n",
       "      <td>[-0.2764752, 0.90588945, -1.3796914, -1.165023...</td>\n",
       "      <td>like himesh reshamiya like singing song craze ...</td>\n",
       "    </tr>\n",
       "    <tr>\n",
       "      <th>463</th>\n",
       "      <td>10417_7.txt</td>\n",
       "      <td>1</td>\n",
       "      <td>Despite its New York setting &amp; New York charac...</td>\n",
       "      <td>[despite, new, york, setting, new, york, chara...</td>\n",
       "      <td>[[-2.2872, -1.9349, 1.0128, -0.95223, 7.1268, ...</td>\n",
       "      <td>[-0.7659505, -0.512257, -1.0389585, -0.6119779...</td>\n",
       "      <td>despite new york setting new york character su...</td>\n",
       "    </tr>\n",
       "    <tr>\n",
       "      <th>1604</th>\n",
       "      <td>10544_3.txt</td>\n",
       "      <td>0</td>\n",
       "      <td>The Toxic Avenger, hideously deformed creature...</td>\n",
       "      <td>[toxic, avenger, hideously, deformed, creature...</td>\n",
       "      <td>[[-0.78919, -2.7074, 1.6015, 0.91893, 0.22646,...</td>\n",
       "      <td>[-0.81105894, -0.13827471, -0.3047374, 0.07012...</td>\n",
       "      <td>toxic avenger hideously deformed creature supe...</td>\n",
       "    </tr>\n",
       "    <tr>\n",
       "      <th>1036</th>\n",
       "      <td>10032_1.txt</td>\n",
       "      <td>0</td>\n",
       "      <td>I walked into a book store in Brentwood, Tenne...</td>\n",
       "      <td>[walk, book, store, brentwood, tennessee, go, ...</td>\n",
       "      <td>[[0.47171, 0.36651, -1.7973, -1.7215, -1.2233,...</td>\n",
       "      <td>[-0.4931361, 0.15395425, -1.9893007, -1.510994...</td>\n",
       "      <td>walk book store brentwood tennessee go dedicat...</td>\n",
       "    </tr>\n",
       "    <tr>\n",
       "      <th>1568</th>\n",
       "      <td>10511_1.txt</td>\n",
       "      <td>0</td>\n",
       "      <td>It's 2005, my friends...a time of amazing spec...</td>\n",
       "      <td>[number, friend, time, amazing, special, effec...</td>\n",
       "      <td>[[-1.2778, -0.25356, 1.1077, 3.7485, 4.5726, 3...</td>\n",
       "      <td>[-0.5647604, 0.4712712, -1.9082327, -1.5345925...</td>\n",
       "      <td>number friend time amazing special effect age ...</td>\n",
       "    </tr>\n",
       "  </tbody>\n",
       "</table>\n",
       "</div>\n",
       "    <div class=\"colab-df-buttons\">\n",
       "\n",
       "  <div class=\"colab-df-container\">\n",
       "    <button class=\"colab-df-convert\" onclick=\"convertToInteractive('df-9a98540b-2b0b-40cc-a0a3-6a51f2f2dccc')\"\n",
       "            title=\"Convert this dataframe to an interactive table.\"\n",
       "            style=\"display:none;\">\n",
       "\n",
       "  <svg xmlns=\"http://www.w3.org/2000/svg\" height=\"24px\" viewBox=\"0 -960 960 960\">\n",
       "    <path d=\"M120-120v-720h720v720H120Zm60-500h600v-160H180v160Zm220 220h160v-160H400v160Zm0 220h160v-160H400v160ZM180-400h160v-160H180v160Zm440 0h160v-160H620v160ZM180-180h160v-160H180v160Zm440 0h160v-160H620v160Z\"/>\n",
       "  </svg>\n",
       "    </button>\n",
       "\n",
       "  <style>\n",
       "    .colab-df-container {\n",
       "      display:flex;\n",
       "      gap: 12px;\n",
       "    }\n",
       "\n",
       "    .colab-df-convert {\n",
       "      background-color: #E8F0FE;\n",
       "      border: none;\n",
       "      border-radius: 50%;\n",
       "      cursor: pointer;\n",
       "      display: none;\n",
       "      fill: #1967D2;\n",
       "      height: 32px;\n",
       "      padding: 0 0 0 0;\n",
       "      width: 32px;\n",
       "    }\n",
       "\n",
       "    .colab-df-convert:hover {\n",
       "      background-color: #E2EBFA;\n",
       "      box-shadow: 0px 1px 2px rgba(60, 64, 67, 0.3), 0px 1px 3px 1px rgba(60, 64, 67, 0.15);\n",
       "      fill: #174EA6;\n",
       "    }\n",
       "\n",
       "    .colab-df-buttons div {\n",
       "      margin-bottom: 4px;\n",
       "    }\n",
       "\n",
       "    [theme=dark] .colab-df-convert {\n",
       "      background-color: #3B4455;\n",
       "      fill: #D2E3FC;\n",
       "    }\n",
       "\n",
       "    [theme=dark] .colab-df-convert:hover {\n",
       "      background-color: #434B5C;\n",
       "      box-shadow: 0px 1px 3px 1px rgba(0, 0, 0, 0.15);\n",
       "      filter: drop-shadow(0px 1px 2px rgba(0, 0, 0, 0.3));\n",
       "      fill: #FFFFFF;\n",
       "    }\n",
       "  </style>\n",
       "\n",
       "    <script>\n",
       "      const buttonEl =\n",
       "        document.querySelector('#df-9a98540b-2b0b-40cc-a0a3-6a51f2f2dccc button.colab-df-convert');\n",
       "      buttonEl.style.display =\n",
       "        google.colab.kernel.accessAllowed ? 'block' : 'none';\n",
       "\n",
       "      async function convertToInteractive(key) {\n",
       "        const element = document.querySelector('#df-9a98540b-2b0b-40cc-a0a3-6a51f2f2dccc');\n",
       "        const dataTable =\n",
       "          await google.colab.kernel.invokeFunction('convertToInteractive',\n",
       "                                                    [key], {});\n",
       "        if (!dataTable) return;\n",
       "\n",
       "        const docLinkHtml = 'Like what you see? Visit the ' +\n",
       "          '<a target=\"_blank\" href=https://colab.research.google.com/notebooks/data_table.ipynb>data table notebook</a>'\n",
       "          + ' to learn more about interactive tables.';\n",
       "        element.innerHTML = '';\n",
       "        dataTable['output_type'] = 'display_data';\n",
       "        await google.colab.output.renderOutput(dataTable, element);\n",
       "        const docLink = document.createElement('div');\n",
       "        docLink.innerHTML = docLinkHtml;\n",
       "        element.appendChild(docLink);\n",
       "      }\n",
       "    </script>\n",
       "  </div>\n",
       "\n",
       "\n",
       "<div id=\"df-d2e7c7bb-cc25-4ac1-9a6d-ef509734c9a4\">\n",
       "  <button class=\"colab-df-quickchart\" onclick=\"quickchart('df-d2e7c7bb-cc25-4ac1-9a6d-ef509734c9a4')\"\n",
       "            title=\"Suggest charts\"\n",
       "            style=\"display:none;\">\n",
       "\n",
       "<svg xmlns=\"http://www.w3.org/2000/svg\" height=\"24px\"viewBox=\"0 0 24 24\"\n",
       "     width=\"24px\">\n",
       "    <g>\n",
       "        <path d=\"M19 3H5c-1.1 0-2 .9-2 2v14c0 1.1.9 2 2 2h14c1.1 0 2-.9 2-2V5c0-1.1-.9-2-2-2zM9 17H7v-7h2v7zm4 0h-2V7h2v10zm4 0h-2v-4h2v4z\"/>\n",
       "    </g>\n",
       "</svg>\n",
       "  </button>\n",
       "\n",
       "<style>\n",
       "  .colab-df-quickchart {\n",
       "      --bg-color: #E8F0FE;\n",
       "      --fill-color: #1967D2;\n",
       "      --hover-bg-color: #E2EBFA;\n",
       "      --hover-fill-color: #174EA6;\n",
       "      --disabled-fill-color: #AAA;\n",
       "      --disabled-bg-color: #DDD;\n",
       "  }\n",
       "\n",
       "  [theme=dark] .colab-df-quickchart {\n",
       "      --bg-color: #3B4455;\n",
       "      --fill-color: #D2E3FC;\n",
       "      --hover-bg-color: #434B5C;\n",
       "      --hover-fill-color: #FFFFFF;\n",
       "      --disabled-bg-color: #3B4455;\n",
       "      --disabled-fill-color: #666;\n",
       "  }\n",
       "\n",
       "  .colab-df-quickchart {\n",
       "    background-color: var(--bg-color);\n",
       "    border: none;\n",
       "    border-radius: 50%;\n",
       "    cursor: pointer;\n",
       "    display: none;\n",
       "    fill: var(--fill-color);\n",
       "    height: 32px;\n",
       "    padding: 0;\n",
       "    width: 32px;\n",
       "  }\n",
       "\n",
       "  .colab-df-quickchart:hover {\n",
       "    background-color: var(--hover-bg-color);\n",
       "    box-shadow: 0 1px 2px rgba(60, 64, 67, 0.3), 0 1px 3px 1px rgba(60, 64, 67, 0.15);\n",
       "    fill: var(--button-hover-fill-color);\n",
       "  }\n",
       "\n",
       "  .colab-df-quickchart-complete:disabled,\n",
       "  .colab-df-quickchart-complete:disabled:hover {\n",
       "    background-color: var(--disabled-bg-color);\n",
       "    fill: var(--disabled-fill-color);\n",
       "    box-shadow: none;\n",
       "  }\n",
       "\n",
       "  .colab-df-spinner {\n",
       "    border: 2px solid var(--fill-color);\n",
       "    border-color: transparent;\n",
       "    border-bottom-color: var(--fill-color);\n",
       "    animation:\n",
       "      spin 1s steps(1) infinite;\n",
       "  }\n",
       "\n",
       "  @keyframes spin {\n",
       "    0% {\n",
       "      border-color: transparent;\n",
       "      border-bottom-color: var(--fill-color);\n",
       "      border-left-color: var(--fill-color);\n",
       "    }\n",
       "    20% {\n",
       "      border-color: transparent;\n",
       "      border-left-color: var(--fill-color);\n",
       "      border-top-color: var(--fill-color);\n",
       "    }\n",
       "    30% {\n",
       "      border-color: transparent;\n",
       "      border-left-color: var(--fill-color);\n",
       "      border-top-color: var(--fill-color);\n",
       "      border-right-color: var(--fill-color);\n",
       "    }\n",
       "    40% {\n",
       "      border-color: transparent;\n",
       "      border-right-color: var(--fill-color);\n",
       "      border-top-color: var(--fill-color);\n",
       "    }\n",
       "    60% {\n",
       "      border-color: transparent;\n",
       "      border-right-color: var(--fill-color);\n",
       "    }\n",
       "    80% {\n",
       "      border-color: transparent;\n",
       "      border-right-color: var(--fill-color);\n",
       "      border-bottom-color: var(--fill-color);\n",
       "    }\n",
       "    90% {\n",
       "      border-color: transparent;\n",
       "      border-bottom-color: var(--fill-color);\n",
       "    }\n",
       "  }\n",
       "</style>\n",
       "\n",
       "  <script>\n",
       "    async function quickchart(key) {\n",
       "      const quickchartButtonEl =\n",
       "        document.querySelector('#' + key + ' button');\n",
       "      quickchartButtonEl.disabled = true;  // To prevent multiple clicks.\n",
       "      quickchartButtonEl.classList.add('colab-df-spinner');\n",
       "      try {\n",
       "        const charts = await google.colab.kernel.invokeFunction(\n",
       "            'suggestCharts', [key], {});\n",
       "      } catch (error) {\n",
       "        console.error('Error during call to suggestCharts:', error);\n",
       "      }\n",
       "      quickchartButtonEl.classList.remove('colab-df-spinner');\n",
       "      quickchartButtonEl.classList.add('colab-df-quickchart-complete');\n",
       "    }\n",
       "    (() => {\n",
       "      let quickchartButtonEl =\n",
       "        document.querySelector('#df-d2e7c7bb-cc25-4ac1-9a6d-ef509734c9a4 button');\n",
       "      quickchartButtonEl.style.display =\n",
       "        google.colab.kernel.accessAllowed ? 'block' : 'none';\n",
       "    })();\n",
       "  </script>\n",
       "</div>\n",
       "    </div>\n",
       "  </div>\n"
      ],
      "text/plain": [
       "        file_name  label                                               text  \\\n",
       "1733  10660_4.txt      0  I do not like Himesh Reshamiya. I do not like ...   \n",
       "463   10417_7.txt      1  Despite its New York setting & New York charac...   \n",
       "1604  10544_3.txt      0  The Toxic Avenger, hideously deformed creature...   \n",
       "1036  10032_1.txt      0  I walked into a book store in Brentwood, Tenne...   \n",
       "1568  10511_1.txt      0  It's 2005, my friends...a time of amazing spec...   \n",
       "\n",
       "                                           clean_tokens  \\\n",
       "1733  [like, himesh, reshamiya, like, singing, song,...   \n",
       "463   [despite, new, york, setting, new, york, chara...   \n",
       "1604  [toxic, avenger, hideously, deformed, creature...   \n",
       "1036  [walk, book, store, brentwood, tennessee, go, ...   \n",
       "1568  [number, friend, time, amazing, special, effec...   \n",
       "\n",
       "                                                vectors  \\\n",
       "1733  [[-2.3334, -1.3695, -1.133, -0.68461, -1.8482,...   \n",
       "463   [[-2.2872, -1.9349, 1.0128, -0.95223, 7.1268, ...   \n",
       "1604  [[-0.78919, -2.7074, 1.6015, 0.91893, 0.22646,...   \n",
       "1036  [[0.47171, 0.36651, -1.7973, -1.7215, -1.2233,...   \n",
       "1568  [[-1.2778, -0.25356, 1.1077, 3.7485, 4.5726, 3...   \n",
       "\n",
       "                                            mean_vector  \\\n",
       "1733  [-0.2764752, 0.90588945, -1.3796914, -1.165023...   \n",
       "463   [-0.7659505, -0.512257, -1.0389585, -0.6119779...   \n",
       "1604  [-0.81105894, -0.13827471, -0.3047374, 0.07012...   \n",
       "1036  [-0.4931361, 0.15395425, -1.9893007, -1.510994...   \n",
       "1568  [-0.5647604, 0.4712712, -1.9082327, -1.5345925...   \n",
       "\n",
       "                                            clean_texts  \n",
       "1733  like himesh reshamiya like singing song craze ...  \n",
       "463   despite new york setting new york character su...  \n",
       "1604  toxic avenger hideously deformed creature supe...  \n",
       "1036  walk book store brentwood tennessee go dedicat...  \n",
       "1568  number friend time amazing special effect age ...  "
      ]
     },
     "execution_count": 16,
     "metadata": {},
     "output_type": "execute_result"
    }
   ],
   "source": [
    "test_data.head()"
   ]
  },
  {
   "cell_type": "code",
   "execution_count": null,
   "metadata": {
    "colab": {
     "base_uri": "https://localhost:8080/"
    },
    "id": "C2oF5UsC-ZGG",
    "outputId": "063ceaf4-153a-4469-a7bb-b5761bf6aa1f"
   },
   "outputs": [
    {
     "data": {
      "text/plain": [
       "2000"
      ]
     },
     "execution_count": 17,
     "metadata": {},
     "output_type": "execute_result"
    }
   ],
   "source": [
    "len(test_data)"
   ]
  },
  {
   "cell_type": "markdown",
   "metadata": {
    "id": "EZOIlSiSMIUy"
   },
   "source": [
    "## Word Vectors"
   ]
  },
  {
   "cell_type": "markdown",
   "metadata": {
    "id": "J5sVCKd_1LTJ"
   },
   "source": [
    "The first step that we need to take, after cleaning our data is to get a numerical **representation of our input text**. This process, sometimes called *vectorization*, consists on having a vector, or embedding, that represents the full sentence.\n",
    "\n",
    "In this case, we are using **word2vec**, which means that we are obtaining a vector for each of the words, or tokens. Then, to obtain a representation of the full text we need to combine this representation at a word level into the final one that represents the whole sentence. Good news, this has been already done in the data preprocessing and you already have the average vector representation in the column `mean_vector`"
   ]
  },
  {
   "cell_type": "markdown",
   "metadata": {
    "id": "PWWu1kGEfLQD"
   },
   "source": [
    "What do Word Vectors Look Like?"
   ]
  },
  {
   "cell_type": "code",
   "execution_count": null,
   "metadata": {
    "colab": {
     "base_uri": "https://localhost:8080/"
    },
    "id": "etHNa8DniUBC",
    "outputId": "de4daccf-eaee-47ea-dc1a-6c4edc328eef"
   },
   "outputs": [
    {
     "name": "stdout",
     "output_type": "stream",
     "text": [
      "[-5.8133686e-01  3.9267543e-01 -9.1543037e-01 -3.3432341e-01\n",
      "  1.7519240e+00  4.0109390e-01  2.1471763e+00  2.0679374e+00\n",
      " -1.4584647e+00 -7.3070562e-01  3.0722411e+00  4.0940163e-01\n",
      " -2.2273650e+00  1.4512004e+00 -1.1648331e-01  4.7284278e-01\n",
      "  8.2097971e-01  2.5608036e-01 -1.2124937e+00  8.4686464e-01\n",
      "  3.0783245e-01 -1.2472592e-01  3.5336888e-01 -4.6853754e-01\n",
      "  1.3735808e+00 -2.0827535e-01 -1.0529712e+00  1.9229467e-01\n",
      "  9.3068963e-01  1.9580910e+00  4.3538779e-01  1.2509470e+00\n",
      " -3.3042607e-01 -1.6329470e+00 -1.2574549e+00  5.3420025e-01\n",
      "  1.4617948e-01  2.9261532e-01  4.1457906e-01  7.0617028e-02\n",
      " -4.5003304e-01  2.1793337e-01 -4.2098284e-01  1.3754324e+00\n",
      " -1.5130879e+00 -1.3083547e-01  1.7063925e-01 -1.9838734e+00\n",
      "  1.2478180e+00  1.0106833e-01 -7.4293911e-01  1.6672587e+00\n",
      " -1.3598197e+00 -2.0702534e+00  4.5524979e-01  9.2777210e-01\n",
      " -5.0119811e-01  8.8177994e-02  1.4646734e+00  8.4497631e-02\n",
      "  2.8507510e-01  5.9607011e-01 -9.1170388e-01 -3.3667302e-01\n",
      "  1.9950970e+00  1.2844965e+00 -1.7500452e+00 -1.2396284e+00\n",
      "  3.8950071e-01  1.9530857e+00  3.3490115e-01  6.4099200e-02\n",
      " -1.2697844e-01 -6.3096631e-01  2.8233880e-01  4.4937301e-01\n",
      " -2.0252600e+00  1.4579667e+00 -1.2353314e+00  6.0817254e-01\n",
      " -2.3633387e+00 -3.2605952e-01  7.3128927e-01 -2.3324671e-01\n",
      "  9.6550882e-01 -3.3192623e-01 -1.4878788e+00 -1.4629322e+00\n",
      "  9.5523417e-01  4.2102054e-01 -6.8249243e-01 -5.3830862e-02\n",
      "  5.0543243e-01 -1.1028409e+00  2.2156189e-01 -4.5442727e-01\n",
      "  9.6054381e-01 -1.2305189e+00  1.7677304e+00  1.3370850e+00\n",
      "  1.6687334e+00 -1.7051493e-01  1.6195179e+00  1.1477647e+00\n",
      " -1.4898546e+00  1.4197733e+00 -1.5951453e-01 -1.2554817e+00\n",
      " -5.8029610e-01 -2.2392263e+00  7.9291838e-01 -9.2868370e-01\n",
      " -5.0488526e-01 -2.8696609e-01  1.4802580e-01  1.5619011e+00\n",
      " -2.0723174e+00 -4.3845537e-01 -4.2142743e-01 -6.3142389e-01\n",
      " -6.8754351e-01 -1.0985147e+00 -1.0184591e-03  1.5360832e-02\n",
      " -3.3862799e-01 -1.0635352e+00  6.3243580e-01 -9.9201155e-01\n",
      "  2.3773069e+00 -6.1205727e-01 -2.0101864e+00 -4.7882304e-01\n",
      "  2.7813051e+00 -1.0063742e-01  4.8649418e-01  3.4618077e-01\n",
      " -1.3115687e+00 -8.6203650e-02  2.0565560e+00 -7.8034228e-01\n",
      " -1.0670515e+00 -1.9994649e-01  1.8996769e-01  1.9401610e+00\n",
      "  1.1024954e+00 -2.5067276e-01 -3.7039070e+00 -1.1933982e+00\n",
      "  6.9628245e-01  1.1233805e+00  1.8217976e+00 -3.1973645e-01\n",
      "  8.6654079e-01  8.2119149e-01 -1.2999272e+00  1.6924720e-01\n",
      "  3.1655607e+00 -9.8404333e-02 -6.9382280e-01 -1.6413654e+00\n",
      " -7.2462237e-01 -1.9785168e+00 -1.2473615e-01  1.3914536e+00\n",
      " -9.4949645e-01 -1.4970754e-01 -1.2562401e+00  7.9279035e-02\n",
      " -7.6393479e-01 -4.9671388e-01  1.1062255e+00  2.3842278e-01\n",
      "  7.0955199e-01 -4.7235928e-02  1.4797385e+00  8.5688841e-01\n",
      " -3.5700390e-01 -8.8335669e-01 -8.0557358e-01 -1.3566232e+00\n",
      " -1.2034057e+00  4.2505485e-01  1.7086469e+00  6.3210964e-01\n",
      " -4.0869763e-01  5.1598537e-01 -9.5264986e-02 -7.2411513e-01\n",
      "  9.7608536e-02  1.0480756e+00 -2.8402150e-01 -8.0578876e-01\n",
      " -4.3977082e-01  1.6662896e-01  9.6052307e-01 -1.5592999e+00\n",
      " -1.8579495e+00 -4.2669058e-02 -1.7785901e-01  2.4419458e+00\n",
      " -3.4394276e-01 -1.2676312e-01 -3.2319471e-01 -1.8895465e+00\n",
      "  1.4277538e+00 -2.7248126e-02 -4.2819533e-01  3.6382011e-01\n",
      " -6.2768465e-01 -8.9922220e-01 -2.7907395e-01 -1.9431315e-01\n",
      " -1.2132666e-01  4.8321620e-01 -1.4759833e-01  1.0835552e+00\n",
      "  6.0980701e-01 -1.2372283e+00 -2.0146520e-01  2.3199031e-01\n",
      " -1.7965993e-01  1.1499382e-01 -9.1728961e-01  6.8172145e-01\n",
      " -7.2227317e-01 -2.7808514e-01 -3.7599966e-01  1.7745764e+00\n",
      "  1.3877861e+00  1.2425879e+00  7.1247377e-02 -8.8667041e-01\n",
      " -5.4378676e-01 -3.8732022e-01  2.0440392e-01  1.2227136e+00\n",
      "  8.4181875e-01 -6.9105339e-01 -1.0608143e+00  8.1058425e-01\n",
      " -1.4518149e+00  8.0702192e-01  6.0337234e-01  9.0793514e-01\n",
      "  5.6406677e-02  1.2923003e+00 -2.1954136e+00  8.1327915e-01\n",
      "  3.8064712e-01  1.3850909e+00  4.5560393e-02 -5.6035769e-01\n",
      " -2.3649337e+00  1.0644178e+00 -5.4808104e-01 -1.0567436e+00\n",
      "  6.2915319e-01 -1.0084680e+00  2.8094414e-01  1.3445485e+00\n",
      "  1.8402791e-01  8.4569907e-01  1.9087602e+00 -3.8562435e-01\n",
      "  1.4910892e+00 -1.0285820e+00 -3.6041594e-01  8.4619451e-01\n",
      " -2.7837868e+00  1.1612846e-01 -3.5729957e-01  6.7845291e-01\n",
      "  9.8560780e-02 -2.2137253e+00 -7.4462622e-01 -3.0920267e-01\n",
      "  5.9832692e-01 -1.5922821e+00 -1.0872769e+00  1.1703115e+00\n",
      "  2.5579020e-01 -6.5519971e-01  1.1682941e+00 -9.3034118e-01\n",
      "  2.1504796e+00 -2.3662761e-01  7.7375507e-01  3.6043251e-01\n",
      " -1.5650643e+00 -8.8117528e-01  2.0613143e+00 -1.4048735e+00\n",
      " -8.1880528e-01 -1.3807408e+00 -4.8716176e-01  1.5136057e-01\n",
      "  1.2647178e+00 -9.8480061e-02 -1.8358639e+00  9.3167603e-01]\n"
     ]
    }
   ],
   "source": [
    "## TODO: Print a word vector\n",
    "word_vector = train_data[\"mean_vector\"][0]\n",
    "print(word_vector)"
   ]
  },
  {
   "cell_type": "markdown",
   "metadata": {
    "id": "G53ggYUlAMmC"
   },
   "source": [
    "**What is the dimension of the word vectors?** You will need it to define the embedding layer dimension."
   ]
  },
  {
   "cell_type": "code",
   "execution_count": null,
   "metadata": {
    "colab": {
     "base_uri": "https://localhost:8080/"
    },
    "id": "SVjhyvcLc59E",
    "outputId": "54ffa7f7-3297-4097-88d7-ddeac0ed3467"
   },
   "outputs": [
    {
     "data": {
      "text/plain": [
       "300"
      ]
     },
     "execution_count": 19,
     "metadata": {},
     "output_type": "execute_result"
    }
   ],
   "source": [
    "## TODO Get vector dimension\n",
    "vec_dim = len(train_data[\"mean_vector\"][0])\n",
    "vec_dim"
   ]
  },
  {
   "cell_type": "markdown",
   "metadata": {
    "id": "4vcr9ntqPKiH"
   },
   "source": [
    "Be sure the vector dimension is correct."
   ]
  },
  {
   "cell_type": "markdown",
   "metadata": {
    "id": "ztNsOPRa6MqN"
   },
   "source": [
    "Next, by using [PCA](https://scikit-learn.org/stable/modules/generated/sklearn.decomposition.PCA.html#sklearn.decomposition.PCA), we are going to visualize the word vectors of a sentence in a 2D space."
   ]
  },
  {
   "cell_type": "code",
   "execution_count": null,
   "metadata": {
    "colab": {
     "base_uri": "https://localhost:8080/"
    },
    "id": "TIMwYUsYFQhn",
    "outputId": "49741b90-70a7-4b0f-ab95-e3545b40cc65"
   },
   "outputs": [
    {
     "data": {
      "text/plain": [
       "['brilliant',\n",
       " 'acting',\n",
       " 'lesley',\n",
       " 'ann',\n",
       " 'warren',\n",
       " 'well',\n",
       " 'dramatic',\n",
       " 'hobo',\n",
       " 'lady',\n",
       " 'see',\n",
       " 'love',\n",
       " 'scene',\n",
       " 'clothe',\n",
       " 'warehouse',\n",
       " 'number',\n",
       " 'corn',\n",
       " 'face',\n",
       " 'classic',\n",
       " 'good',\n",
       " 'blazing',\n",
       " 'saddle',\n",
       " 'lawyer',\n",
       " 'superb',\n",
       " 'accuse',\n",
       " 'turncoat',\n",
       " 'sell',\n",
       " 'boss',\n",
       " 'dishonest',\n",
       " 'lawyer',\n",
       " 'pepto',\n",
       " 'bolt',\n",
       " 'shrug',\n",
       " 'indifferently',\n",
       " 'lawyer',\n",
       " 'say',\n",
       " 'number',\n",
       " 'funny',\n",
       " 'word',\n",
       " 'jeffrey',\n",
       " 'tambor',\n",
       " 'favorite',\n",
       " 'later',\n",
       " 'larry',\n",
       " 'sanders',\n",
       " 'fantastic',\n",
       " 'mad',\n",
       " 'millionaire',\n",
       " 'want',\n",
       " 'crush',\n",
       " 'ghetto',\n",
       " 'character',\n",
       " 'malevolent',\n",
       " 'usual',\n",
       " 'hospital',\n",
       " 'scene',\n",
       " 'scene',\n",
       " 'homeless',\n",
       " 'invade',\n",
       " 'demolition',\n",
       " 'site',\n",
       " 'time',\n",
       " 'classic',\n",
       " 'look',\n",
       " 'leg',\n",
       " 'scene',\n",
       " 'number',\n",
       " 'big',\n",
       " 'digger',\n",
       " 'fight',\n",
       " 'number',\n",
       " 'bleed',\n",
       " 'movie',\n",
       " 'get',\n",
       " 'well',\n",
       " 'time']"
      ]
     },
     "execution_count": 21,
     "metadata": {},
     "output_type": "execute_result"
    }
   ],
   "source": [
    "# TODO Show clean tokens of review number 3\n",
    "n=3\n",
    "train_data[\"clean_tokens\"][n-1] # python indexing starts with 0, so 2 is the index of the third"
   ]
  },
  {
   "cell_type": "code",
   "execution_count": null,
   "metadata": {
    "colab": {
     "base_uri": "https://localhost:8080/",
     "height": 578
    },
    "id": "AcIFmsKGDN79",
    "outputId": "8f169e46-5377-4775-c2c1-84928cf2ce05"
   },
   "outputs": [
    {
     "data": {
      "image/png": "[encoded data removed]",
      "text/plain": [
       "<Figure size 2000x1000 with 1 Axes>"
      ]
     },
     "metadata": {},
     "output_type": "display_data"
    }
   ],
   "source": [
    "# create a scatter plot of the projection\n",
    "\n",
    "from sklearn.decomposition import PCA\n",
    "from matplotlib import pyplot\n",
    "\n",
    "X = train_neg_reviews[n]['vectors']\n",
    "pca = PCA(n_components=2)\n",
    "result = pca.fit_transform(X)\n",
    "\n",
    "pyplot.figure(figsize=(20, 10))\n",
    "pyplot.scatter(result[:, 0], result[:, 1])\n",
    "\n",
    "words = list(train_neg_reviews[n]['clean_tokens'])\n",
    "for i, word in enumerate(words):\n",
    "  pyplot.annotate(word, xy=(result[i, 0], result[i, 1]),fontsize=12)\n",
    "pyplot.show()"
   ]
  },
  {
   "cell_type": "markdown",
   "metadata": {
    "id": "9zQeGBkjzdn2"
   },
   "source": [
    "You can obtain the **cosine similarity** between two words by **obtaining their doc object** and using `similarity` method."
   ]
  },
  {
   "cell_type": "code",
   "execution_count": null,
   "metadata": {
    "colab": {
     "base_uri": "https://localhost:8080/",
     "height": 36
    },
    "id": "qfNqg9F3BuTe",
    "outputId": "808d734b-c21f-4ba5-c3cc-1bc66bf6b8cf"
   },
   "outputs": [
    {
     "data": {
      "application/vnd.google.colaboratory.intrinsic+json": {
       "type": "string"
      },
      "text/plain": [
       "'bromwell'"
      ]
     },
     "execution_count": 23,
     "metadata": {},
     "output_type": "execute_result"
    }
   ],
   "source": [
    "train_data[\"clean_tokens\"][0][0]"
   ]
  },
  {
   "cell_type": "code",
   "execution_count": null,
   "metadata": {
    "colab": {
     "base_uri": "https://localhost:8080/",
     "height": 36
    },
    "id": "xjxDiWlqD6Zz",
    "outputId": "15f68389-0e88-4f74-e62f-bd04ebf723aa"
   },
   "outputs": [
    {
     "data": {
      "application/vnd.google.colaboratory.intrinsic+json": {
       "type": "string"
      },
      "text/plain": [
       "'love'"
      ]
     },
     "execution_count": 24,
     "metadata": {},
     "output_type": "execute_result"
    }
   ],
   "source": [
    "train_data[\"clean_tokens\"][2][10]"
   ]
  },
  {
   "cell_type": "code",
   "execution_count": null,
   "metadata": {
    "id": "_ZR-p3M21ggh"
   },
   "outputs": [],
   "source": [
    "## TODO compute similarity for 2 similar words by using the cosine similarity\n",
    "word_1=\"bromwell\"\n",
    "word_2=\"love\"\n",
    "\n",
    "word_1_vector = train_data[\"vectors\"][0][0]\n",
    "\n",
    "word_2_vector = train_data[\"vectors\"][2][10]"
   ]
  },
  {
   "cell_type": "code",
   "execution_count": null,
   "metadata": {
    "colab": {
     "base_uri": "https://localhost:8080/"
    },
    "id": "a_xwzpqwEt_f",
    "outputId": "be9f3a34-2ab3-4081-abe2-4886b988df07"
   },
   "outputs": [
    {
     "data": {
      "text/plain": [
       "array([[-0.05608653]], dtype=float32)"
      ]
     },
     "execution_count": 26,
     "metadata": {},
     "output_type": "execute_result"
    }
   ],
   "source": [
    "from sklearn.metrics.pairwise import cosine_similarity\n",
    "\n",
    "# Example vectors\n",
    "word_1_vector = word_1_vector.reshape(1, -1)\n",
    "word_2_vector = word_2_vector.reshape(1, -1)\n",
    "\n",
    "similarity = cosine_similarity(word_1_vector, word_2_vector)\n",
    "similarity"
   ]
  },
  {
   "cell_type": "markdown",
   "metadata": {
    "id": "J21m7BYoBz9I"
   },
   "source": [
    "If you have curiosity you can visualize word embeddings of another review.\n"
   ]
  },
  {
   "cell_type": "code",
   "execution_count": null,
   "metadata": {
    "colab": {
     "base_uri": "https://localhost:8080/",
     "height": 578
    },
    "id": "ErfL7j-NFqGm",
    "outputId": "71a42bed-5dab-438f-e561-08fb68b0fa9b"
   },
   "outputs": [
    {
     "data": {
      "image/png": "[encoded data removed]",
      "text/plain": [
       "<Figure size 2000x1000 with 1 Axes>"
      ]
     },
     "metadata": {},
     "output_type": "display_data"
    }
   ],
   "source": [
    "n=10\n",
    "X = train_neg_reviews[n]['vectors']\n",
    "pca = PCA(n_components=2)\n",
    "result = pca.fit_transform(X)\n",
    "\n",
    "pyplot.figure(figsize=(20, 10))\n",
    "pyplot.scatter(result[:, 0], result[:, 1])\n",
    "\n",
    "words = list(train_neg_reviews[n]['clean_tokens'])\n",
    "for i, word in enumerate(words):\n",
    "  pyplot.annotate(word, xy=(result[i, 0], result[i, 1]),fontsize=12)\n",
    "pyplot.show()"
   ]
  },
  {
   "cell_type": "markdown",
   "metadata": {
    "id": "IkFZMetBI0Fd"
   },
   "source": [
    "## **Basic classification structure**\n",
    "Usually a text classifier has these basic components:\n",
    "\n",
    "![image.png](data:image/png;base64,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)\n",
    "\n"
   ]
  },
  {
   "cell_type": "markdown",
   "metadata": {
    "id": "Jv4qaizCI9Tb"
   },
   "source": [
    "\n",
    "* **Text prepocessor**: this step usually includes preprocessing tasks like transforming to lower case, removing stop words, removing HTML, etc. It has to be carefully designed depending on each use case, as it might have a high impact on the performance of the model.\n",
    "* **Vectorizer**: the component that given a string of text transforms it into a vector. This is what we call the **embedding** of the text.\n",
    "* **Classification network**: a neural network that aims to codify the embedding into the output classes. The result of this component is what we call the logits.\n",
    "* **Model output**: a disptribution of probabilities across the classes, usually after applying a softmax transformation.\n",
    "\n",
    "\n",
    "There are **different approaches** for solving this problem. From a very simple approach based on the scikit learn framework to the most advanced **transformer** based model, all of them follow the described architecture. **Differences come in how the embedding is obtained**."
   ]
  },
  {
   "cell_type": "markdown",
   "metadata": {
    "id": "dNyuXkDg4eLO"
   },
   "source": [
    "## **Fully Connected Neural Network**"
   ]
  },
  {
   "cell_type": "markdown",
   "metadata": {
    "id": "33B1SCA32HyF"
   },
   "source": [
    "Let's implement a dense neural network for text classification by using word vectors taking the following considerations:\n",
    "\n",
    "* The input shape is the vector dimension\n",
    "* The neural network should be composed of  4 `Dense` layers with the following shape: `[500, 300, 250, 100]` and a last layer for classification.\n",
    "* The last dense layer should output a probability value between 0 and 1 for binary classification.\n",
    "* For the activation functions of intermediate layers you can chose between `tanh` and `relu`.\n",
    "* `Dropout` is usually used after the activation function to avoid overfitting. A typical value for dense layers is 0.5.\n",
    "\n",
    "*You can check the [Keras documentation here](https://keras.io/api/layers/core_layers/dense/) for the definition of the model.*\n"
   ]
  },
  {
   "cell_type": "code",
   "execution_count": null,
   "metadata": {
    "colab": {
     "base_uri": "https://localhost:8080/"
    },
    "id": "MO9a7RaB4qDQ",
    "outputId": "ab1e4741-62d5-46eb-851a-41e713eb42fa"
   },
   "outputs": [
    {
     "name": "stdout",
     "output_type": "stream",
     "text": [
      "Model: \"sequential\"\n",
      "_________________________________________________________________\n",
      " Layer (type)                Output Shape              Param #   \n",
      "=================================================================\n",
      " dense (Dense)               (None, 500)               150500    \n",
      "                                                                 \n",
      " dropout (Dropout)           (None, 500)               0         \n",
      "                                                                 \n",
      " dense_1 (Dense)             (None, 300)               150300    \n",
      "                                                                 \n",
      " dropout_1 (Dropout)         (None, 300)               0         \n",
      "                                                                 \n",
      " dense_2 (Dense)             (None, 250)               75250     \n",
      "                                                                 \n",
      " dropout_2 (Dropout)         (None, 250)               0         \n",
      "                                                                 \n",
      " dense_3 (Dense)             (None, 100)               25100     \n",
      "                                                                 \n",
      " dropout_3 (Dropout)         (None, 100)               0         \n",
      "                                                                 \n",
      " dense_4 (Dense)             (None, 1)                 101       \n",
      "                                                                 \n",
      "=================================================================\n",
      "Total params: 401251 (1.53 MB)\n",
      "Trainable params: 401251 (1.53 MB)\n",
      "Non-trainable params: 0 (0.00 Byte)\n",
      "_________________________________________________________________\n"
     ]
    }
   ],
   "source": [
    "from keras import regularizers, optimizers\n",
    "from keras.layers import TextVectorization\n",
    "from keras.layers import Embedding, Dense, Dropout, Input, LSTM, GlobalMaxPool1D\n",
    "from keras.models import Sequential\n",
    "from keras.initializers import Constant\n",
    "from tensorflow.keras.utils import plot_model\n",
    "import tensorflow as tf\n",
    "\n",
    "# Assuming input_shape is the dimension of your word vectors\n",
    "input_shape = (300,)\n",
    "\n",
    "# we create a new sequential model object\n",
    "model = Sequential()\n",
    "\n",
    "# Add Dense layers with specified shapes and activation functions\n",
    "model.add(Dense(500, input_shape=input_shape, activation='relu'))\n",
    "model.add(Dropout(0.5))\n",
    "\n",
    "model.add(Dense(300, activation='tanh'))\n",
    "model.add(Dropout(0.5))\n",
    "\n",
    "model.add(Dense(250, activation='relu'))\n",
    "model.add(Dropout(0.5))\n",
    "\n",
    "model.add(Dense(100, activation='tanh'))\n",
    "model.add(Dropout(0.5))\n",
    "\n",
    "# Output layer for binary classification with 'sigmoid' activation\n",
    "model.add(Dense(1, activation='sigmoid'))\n",
    "\n",
    "# Compile the model\n",
    "model.compile(optimizer='adam', loss='binary_crossentropy', metrics=['accuracy'])\n",
    "\n",
    "# Display the model summary\n",
    "model.summary()\n"
   ]
  },
  {
   "cell_type": "markdown",
   "metadata": {
    "id": "CxWrBPRIGmVh"
   },
   "source": [
    "Here we are going to define the optimizer, the learning rate and the loss.\n",
    "\n",
    "The **learning rate** is a hyperparameter used in many machine learning algorithms, such as gradient descent, to control the size of the step taken in the direction of the negative gradient during training. The learning rate determines how quickly the algorithm updates the model's parameters in response to the training data. It should be in the range [0.01, 0.0001].\n",
    "\n",
    "If the learning rate is too high, the algorithm may not converge and overshoot the optimal solution, while if the learning rate is too low, the algorithm may take too long to converge. A good learning rate balances the trade-off between convergence speed and quality.\n",
    "\n",
    "Regarding the **loss**, as we are dealing with a binary classification we are going to use the `\"binary_crossentropy\"`."
   ]
  },
  {
   "cell_type": "code",
   "execution_count": null,
   "metadata": {
    "colab": {
     "base_uri": "https://localhost:8080/"
    },
    "id": "PNMapasXS4hw",
    "outputId": "15a98e58-45a8-41ff-8760-406fef203941"
   },
   "outputs": [
    {
     "name": "stdout",
     "output_type": "stream",
     "text": [
      "Model: \"sequential\"\n",
      "_________________________________________________________________\n",
      " Layer (type)                Output Shape              Param #   \n",
      "=================================================================\n",
      " dense (Dense)               (None, 500)               150500    \n",
      "                                                                 \n",
      " dropout (Dropout)           (None, 500)               0         \n",
      "                                                                 \n",
      " dense_1 (Dense)             (None, 300)               150300    \n",
      "                                                                 \n",
      " dropout_1 (Dropout)         (None, 300)               0         \n",
      "                                                                 \n",
      " dense_2 (Dense)             (None, 250)               75250     \n",
      "                                                                 \n",
      " dropout_2 (Dropout)         (None, 250)               0         \n",
      "                                                                 \n",
      " dense_3 (Dense)             (None, 100)               25100     \n",
      "                                                                 \n",
      " dropout_3 (Dropout)         (None, 100)               0         \n",
      "                                                                 \n",
      " dense_4 (Dense)             (None, 1)                 101       \n",
      "                                                                 \n",
      "=================================================================\n",
      "Total params: 401251 (1.53 MB)\n",
      "Trainable params: 401251 (1.53 MB)\n",
      "Non-trainable params: 0 (0.00 Byte)\n",
      "_________________________________________________________________\n",
      "None\n"
     ]
    }
   ],
   "source": [
    "## TODO set learning rate\n",
    "adam = optimizers.Adam(learning_rate=0.001)\n",
    "\n",
    "## TODO add loss and optimizer\n",
    "model.compile(loss=\"binary_crossentropy\", optimizer=\"adam\", metrics=[\"accuracy\"])\n",
    "\n",
    "print(model.summary())"
   ]
  },
  {
   "cell_type": "code",
   "execution_count": null,
   "metadata": {
    "colab": {
     "base_uri": "https://localhost:8080/",
     "height": 60
    },
    "id": "eTGUBVc7NkbQ",
    "outputId": "da6f042a-af9e-4714-ddd5-1a533deb330d"
   },
   "outputs": [
    {
     "data": {
      "image/png": "[encoded data removed]",
      "text/plain": [
       "<IPython.core.display.Image object>"
      ]
     },
     "execution_count": 30,
     "metadata": {},
     "output_type": "execute_result"
    }
   ],
   "source": [
    "# show model diagram\n",
    "plot_model(model, show_shapes=True, rankdir='LR')"
   ]
  },
  {
   "cell_type": "code",
   "execution_count": null,
   "metadata": {
    "colab": {
     "base_uri": "https://localhost:8080/"
    },
    "id": "fc27KenmHtcl",
    "outputId": "60768b94-4514-4ba1-984f-599492a15e8a"
   },
   "outputs": [
    {
     "data": {
      "text/plain": [
       "(10000,)"
      ]
     },
     "execution_count": 31,
     "metadata": {},
     "output_type": "execute_result"
    }
   ],
   "source": [
    "train_data['mean_vector'].shape"
   ]
  },
  {
   "cell_type": "code",
   "execution_count": null,
   "metadata": {
    "colab": {
     "base_uri": "https://localhost:8080/"
    },
    "id": "kdaQlhxE_jrs",
    "outputId": "68ee2a33-23e4-47aa-f938-7f7e876dbb7b"
   },
   "outputs": [
    {
     "data": {
      "text/plain": [
       "(300,)"
      ]
     },
     "execution_count": 32,
     "metadata": {},
     "output_type": "execute_result"
    }
   ],
   "source": [
    "train_data['mean_vector'][0].shape"
   ]
  },
  {
   "cell_type": "code",
   "execution_count": null,
   "metadata": {
    "colab": {
     "base_uri": "https://localhost:8080/"
    },
    "id": "8xdDI0E2GOPn",
    "outputId": "ef80eca3-e39a-4c0e-bc3f-4558016c707d"
   },
   "outputs": [
    {
     "data": {
      "text/plain": [
       "(10000, 300)"
      ]
     },
     "execution_count": 33,
     "metadata": {},
     "output_type": "execute_result"
    }
   ],
   "source": [
    "# Our input data need to have shape [n_samples, features]\n",
    "mean_vector_array = np.array(train_data['mean_vector'].tolist())\n",
    "mean_vector_array.shape\n"
   ]
  },
  {
   "cell_type": "markdown",
   "metadata": {
    "id": "CxnVSS4zSYbj"
   },
   "source": [
    "Fit the data into the model and set the hyperparameters.\n",
    "* Batch size should be in the range `[32, 250]`\n",
    "* Epochs should be in the range `[20, 50]`\n",
    "\n",
    "We are going to use **early stopping** on validation loss for training our network. Early stopping helps prevent overfitting by stopping the training process before the model starts to memorize the training data."
   ]
  },
  {
   "cell_type": "code",
   "execution_count": null,
   "metadata": {
    "colab": {
     "base_uri": "https://localhost:8080/"
    },
    "id": "HFdVZsfXNkbQ",
    "outputId": "ba5082da-ca5b-44f9-b574-6d4022e9b03b"
   },
   "outputs": [
    {
     "name": "stdout",
     "output_type": "stream",
     "text": [
      "Epoch 1/20\n",
      "164/164 [==============================] - 7s 10ms/step - loss: 0.7575 - accuracy: 0.5836 - val_loss: 0.5115 - val_accuracy: 0.7535\n",
      "Epoch 2/20\n",
      "164/164 [==============================] - 1s 5ms/step - loss: 0.5684 - accuracy: 0.7226 - val_loss: 0.4983 - val_accuracy: 0.7730\n",
      "Epoch 3/20\n",
      "164/164 [==============================] - 1s 4ms/step - loss: 0.5176 - accuracy: 0.7567 - val_loss: 0.4570 - val_accuracy: 0.7840\n",
      "Epoch 4/20\n",
      "164/164 [==============================] - 1s 5ms/step - loss: 0.4789 - accuracy: 0.7784 - val_loss: 0.4414 - val_accuracy: 0.7945\n",
      "Epoch 5/20\n",
      "164/164 [==============================] - 1s 5ms/step - loss: 0.4608 - accuracy: 0.7928 - val_loss: 0.4282 - val_accuracy: 0.8070\n",
      "Epoch 6/20\n",
      "164/164 [==============================] - 1s 5ms/step - loss: 0.4474 - accuracy: 0.7979 - val_loss: 0.4324 - val_accuracy: 0.7975\n",
      "Epoch 7/20\n",
      "164/164 [==============================] - 1s 6ms/step - loss: 0.4418 - accuracy: 0.8011 - val_loss: 0.4135 - val_accuracy: 0.8200\n",
      "Epoch 8/20\n",
      "164/164 [==============================] - 1s 5ms/step - loss: 0.4379 - accuracy: 0.7985 - val_loss: 0.4132 - val_accuracy: 0.8110\n",
      "Epoch 9/20\n",
      "164/164 [==============================] - 1s 4ms/step - loss: 0.4304 - accuracy: 0.8094 - val_loss: 0.4519 - val_accuracy: 0.7925\n",
      "Epoch 10/20\n",
      "164/164 [==============================] - 1s 5ms/step - loss: 0.4242 - accuracy: 0.8086 - val_loss: 0.4116 - val_accuracy: 0.8160\n",
      "Epoch 11/20\n",
      "164/164 [==============================] - 1s 4ms/step - loss: 0.4149 - accuracy: 0.8071 - val_loss: 0.4193 - val_accuracy: 0.8140\n",
      "Epoch 12/20\n",
      "164/164 [==============================] - 1s 5ms/step - loss: 0.4129 - accuracy: 0.8166 - val_loss: 0.4173 - val_accuracy: 0.8165\n",
      "Epoch 13/20\n",
      "164/164 [==============================] - 1s 6ms/step - loss: 0.4109 - accuracy: 0.8185 - val_loss: 0.4072 - val_accuracy: 0.8180\n",
      "Epoch 14/20\n",
      "164/164 [==============================] - 1s 7ms/step - loss: 0.4099 - accuracy: 0.8170 - val_loss: 0.4035 - val_accuracy: 0.8185\n",
      "Epoch 15/20\n",
      "164/164 [==============================] - 1s 7ms/step - loss: 0.4033 - accuracy: 0.8219 - val_loss: 0.4204 - val_accuracy: 0.8170\n",
      "Epoch 16/20\n",
      "164/164 [==============================] - 1s 6ms/step - loss: 0.4065 - accuracy: 0.8220 - val_loss: 0.3988 - val_accuracy: 0.8210\n",
      "Epoch 17/20\n",
      "164/164 [==============================] - 1s 4ms/step - loss: 0.3937 - accuracy: 0.8289 - val_loss: 0.4585 - val_accuracy: 0.7935\n",
      "Epoch 18/20\n",
      "164/164 [==============================] - 1s 5ms/step - loss: 0.3938 - accuracy: 0.8251 - val_loss: 0.4103 - val_accuracy: 0.8050\n",
      "Epoch 19/20\n",
      "164/164 [==============================] - 1s 5ms/step - loss: 0.3949 - accuracy: 0.8241 - val_loss: 0.4029 - val_accuracy: 0.8120\n",
      "Epoch 20/20\n",
      "164/164 [==============================] - 1s 5ms/step - loss: 0.3978 - accuracy: 0.8253 - val_loss: 0.3996 - val_accuracy: 0.8225\n"
     ]
    },
    {
     "data": {
      "text/plain": [
       "<keras.src.callbacks.History at 0x7c2a6416c550>"
      ]
     },
     "execution_count": 34,
     "metadata": {},
     "output_type": "execute_result"
    }
   ],
   "source": [
    "from keras.callbacks import EarlyStopping\n",
    "earlyStopping = EarlyStopping(monitor='val_loss', patience=5, verbose=0, mode='min')\n",
    "\n",
    "# Our input data need to have shape [n_samples, features]\n",
    "X_train = np.array(train_data['mean_vector'].tolist())\n",
    "y_train = train_data['label']\n",
    "\n",
    "## TODO\n",
    "model.fit(X_train,\n",
    "          y_train,\n",
    "          batch_size = 49,\n",
    "          epochs = 20,\n",
    "          validation_split=.2,\n",
    "          callbacks=[earlyStopping],\n",
    "          shuffle=True)"
   ]
  },
  {
   "cell_type": "markdown",
   "metadata": {
    "id": "9x0xSvQ9IMxR"
   },
   "source": [
    "The `\"sigmoid\"` activation function produces continuous output values between 0 and 1. To convert the predicted values to binary, you can use a threshold value. For example, you can set a threshold of 0.5, such that any predicted value above 0.5 is classified as positive (1) and any predicted value below 0.5 is classified as negative (0). You can use the `round` function to apply this threshold."
   ]
  },
  {
   "cell_type": "code",
   "execution_count": null,
   "metadata": {
    "colab": {
     "base_uri": "https://localhost:8080/"
    },
    "id": "3masPhLfNpXS",
    "outputId": "ed674fb7-6996-4a68-a787-944ebf0f0b81"
   },
   "outputs": [
    {
     "name": "stdout",
     "output_type": "stream",
     "text": [
      "63/63 [==============================] - 0s 2ms/step\n",
      "Accuracy: 0.84\n",
      "Precision: 0.8406813627254509\n",
      "Recall: 0.839\n"
     ]
    }
   ],
   "source": [
    "X_test = np.array(test_data['mean_vector'].tolist())\n",
    "y_test = test_data['label']\n",
    "\n",
    "# TODO: Predict labels of test data\n",
    "y_pred = model.predict(X_test)\n",
    "\n",
    "y_pred = y_pred.round()\n",
    "\n",
    "# Model Accuracy\n",
    "print(\"Accuracy:\",metrics.accuracy_score(y_test, y_pred))\n",
    "print(\"Precision:\",metrics.precision_score(y_test, y_pred))\n",
    "print(\"Recall:\",metrics.recall_score(y_test, y_pred))"
   ]
  },
  {
   "cell_type": "markdown",
   "metadata": {
    "id": "O3ZJ8CyFKZZu"
   },
   "source": [
    "Does it improve the results from the Logistic regression using BoW?"
   ]
  },
  {
   "cell_type": "markdown",
   "metadata": {
    "id": "Ehz7f_QfIZ74"
   },
   "source": [
    "Not really, not very much."
   ]
  },
  {
   "cell_type": "markdown",
   "metadata": {
    "id": "wDA_py8gxJ4m"
   },
   "source": [
    "## **Recurrent Neural Network**"
   ]
  },
  {
   "cell_type": "markdown",
   "metadata": {
    "id": "p5G_1xoyTua7"
   },
   "source": [
    "Next, we are going to use a LSTM layer into our neural network to learn from long-term dependencies in sequential data."
   ]
  },
  {
   "cell_type": "markdown",
   "metadata": {
    "id": "Uo11cdeKOBJ-"
   },
   "source": [
    "We need to define a **maximum sequence length** to batchify our data during training and avoid having a lot of padded texts. To make a good decision you will need to look at the distribution of texts lengths of your data."
   ]
  },
  {
   "cell_type": "code",
   "execution_count": null,
   "metadata": {
    "colab": {
     "base_uri": "https://localhost:8080/"
    },
    "id": "YqzHnvCpJdJa",
    "outputId": "6cda15d2-f39d-43b3-ec43-085a66e84b22"
   },
   "outputs": [
    {
     "data": {
      "text/plain": [
       "Index(['file_name', 'label', 'text', 'clean_tokens', 'vectors', 'mean_vector',\n",
       "       'clean_texts'],\n",
       "      dtype='object')"
      ]
     },
     "execution_count": 36,
     "metadata": {},
     "output_type": "execute_result"
    }
   ],
   "source": [
    "train_data.columns"
   ]
  },
  {
   "cell_type": "code",
   "execution_count": null,
   "metadata": {
    "id": "Al2r-7lVJjw-"
   },
   "outputs": [],
   "source": [
    "sentence_lengths = [len(token) for token in train_data[\"clean_tokens\"]]"
   ]
  },
  {
   "cell_type": "code",
   "execution_count": null,
   "metadata": {
    "colab": {
     "base_uri": "https://localhost:8080/",
     "height": 472
    },
    "id": "UD8CiBmeQtIb",
    "outputId": "2f87e496-12b1-4fdd-df69-83a8761eb8a3"
   },
   "outputs": [
    {
     "data": {
      "image/png": "[encoded data removed]",
      "text/plain": [
       "<Figure size 640x480 with 1 Axes>"
      ]
     },
     "metadata": {},
     "output_type": "display_data"
    }
   ],
   "source": [
    "import matplotlib.pyplot as plt\n",
    "\n",
    "## TODO: Get lengths of arrays of clean_tokens\n",
    "#sentence_lengths = train_data[\"clean_texts\"].apply(len)\n",
    "\n",
    "# Create a histogram of the sentence lengths\n",
    "plt.hist(sentence_lengths, bins=50)\n",
    "plt.title(\"Histogram of Sentence Lengths\")\n",
    "plt.xlabel(\"Sentence Length\")\n",
    "plt.ylabel(\"Frequency\")\n",
    "plt.show()"
   ]
  },
  {
   "cell_type": "markdown",
   "metadata": {
    "id": "fpIwvxmrQFiz"
   },
   "source": [
    "### **Vectorizer**"
   ]
  },
  {
   "cell_type": "markdown",
   "metadata": {
    "id": "J0FQGDMMPfzH"
   },
   "source": [
    "Text vectorization Keras layer **transforms a batch of strings** (one sample = one string) **into a list of indices** (one sample = 1D tensor of integer token indices).\n",
    "\n",
    "The vocabulary to be used can have unlimited size or be capped, depending on the configuration options for this layer; if there are more unique values in the input than the maximum vocabulary size, the most frequent terms will be used to create the vocabulary. Here, we are going to define a miximum vocabulary size.\n",
    "\n",
    "*Hint: Reducing the vocabulary size excessively may result in the model missing out on essential information, whereas utilizing the entire vocabulary can lead to an excessive amount of noise. As a general guideline, a vocabulary size of around 10,000 to 20,000 words might be a reasonable starting point for the IMDB dataset.*\n",
    "\n",
    "*Optional: You can plot a histogram of token frequencies in your dataset. You might find that a large portion of tokens are used very infrequently. You could consider setting a threshold to exclude very rare words from the vocabulary, as they might not contribute much to the model's performance.*\n",
    "\n",
    "**Define the variables taking into account:**\n",
    "- `max_words_vocab` defines the maximum amount of words of your dataset to be used.\n",
    "\n",
    "- `embedding_dim` is the dimension of the words embeddings.\n",
    "- `seq_length` defines the maximum amount of words to be considered per review.\n"
   ]
  },
  {
   "cell_type": "code",
   "execution_count": null,
   "metadata": {
    "id": "XwMQZZukpWwV"
   },
   "outputs": [],
   "source": [
    "## TODO: Definition of constants\n",
    "max_words_vocab = 20000       # Only consider the top X words\n",
    "embedding_dim = 300       # Dimension of the embedding\n",
    "seq_length = 150            # Only consider the first X words of each movie review\n",
    "\n",
    "\n",
    "## TODO: Fill in the ...\n",
    "Vectorizer = TextVectorization(\n",
    "    max_tokens=max_words_vocab,\n",
    "    standardize=None,\n",
    "    split=\"whitespace\",\n",
    "    ngrams=None,\n",
    "    output_mode=\"int\",\n",
    "    output_sequence_length=seq_length,\n",
    "    pad_to_max_tokens=False,\n",
    "    vocabulary=None,\n",
    ")\n"
   ]
  },
  {
   "cell_type": "markdown",
   "metadata": {
    "id": "ZQLJEVzzfr8R"
   },
   "source": [
    "\n",
    "The **vocabulary** for the layer must be either supplied on construction or learned via `adapt()`. When this layer is adapted, it will analyze the dataset, determine the frequency of individual string values, and create a vocabulary from them."
   ]
  },
  {
   "cell_type": "code",
   "execution_count": null,
   "metadata": {
    "id": "Lv3Cj2z_pry2"
   },
   "outputs": [],
   "source": [
    "#fit the vectorizer on the clean text and extract the corpus vocabulary\n",
    "Vectorizer.adapt(train_data['clean_texts'])\n",
    "vocab = Vectorizer.get_vocabulary()"
   ]
  },
  {
   "cell_type": "code",
   "execution_count": null,
   "metadata": {
    "colab": {
     "base_uri": "https://localhost:8080/"
    },
    "id": "6CuysLwplOO9",
    "outputId": "82fe709f-8da2-4a1e-e138-0f1395593a43"
   },
   "outputs": [
    {
     "data": {
      "text/plain": [
       "20000"
      ]
     },
     "execution_count": 81,
     "metadata": {},
     "output_type": "execute_result"
    }
   ],
   "source": [
    "len(vocab)"
   ]
  },
  {
   "cell_type": "markdown",
   "metadata": {
    "id": "22fHzOTLQLLb"
   },
   "source": [
    "### **Embedding**"
   ]
  },
  {
   "cell_type": "code",
   "execution_count": null,
   "metadata": {
    "colab": {
     "base_uri": "https://localhost:8080/",
     "height": 49,
     "referenced_widgets": [
      "ab05df01bc8b409c8bb8f188fa836eba",
      "ab30b11a7e774e74ada8a00ca8c628c9",
      "a860518ce7d74a6995289ddffec78cae",
      "78ac7aa74e124cab824c2c2e0c9cd791",
      "a336cc19b37f4714af68c84d930f81a2",
      "9361e81bd77143f3b1564f0e20ef3352",
      "2d1f7c03535f47cbaa703fa8fa93291e",
      "72ab8f2ee8a949b385f4f909c55c4328",
      "d55020a209c94c67bd05d72ced058ab7",
      "d9bc090008c34435b7327b55374575bc",
      "035b80d95b9a4f8c870e4c16fff8d560"
     ]
    },
    "id": "YroEvsKrqYtM",
    "outputId": "89d43621-d502-445e-b9db-0d748ea74519"
   },
   "outputs": [
    {
     "data": {
      "application/vnd.jupyter.widget-view+json": {
       "model_id": "ab05df01bc8b409c8bb8f188fa836eba",
       "version_major": 2,
       "version_minor": 0
      },
      "text/plain": [
       "  0%|          | 0/20000 [00:00<?, ?it/s]"
      ]
     },
     "metadata": {},
     "output_type": "display_data"
    }
   ],
   "source": [
    "#generate the embedding matrix\n",
    "max_features_vocab = 20000\n",
    "\n",
    "\n",
    "embedding_matrix = np.zeros((max_features_vocab, embedding_dim))\n",
    "for i, word in enumerate(tqdm_notebook(vocab)):\n",
    "    embedding_matrix[i] = nlp(str(word)).vector"
   ]
  },
  {
   "cell_type": "markdown",
   "metadata": {
    "id": "pOAzXUBFUPae"
   },
   "source": [
    "What is the shape of the embedding matrix?"
   ]
  },
  {
   "cell_type": "code",
   "execution_count": null,
   "metadata": {
    "colab": {
     "base_uri": "https://localhost:8080/"
    },
    "id": "hPEodE_bRjPj",
    "outputId": "809f0d81-2212-4b67-a62c-5355300ed176"
   },
   "outputs": [
    {
     "data": {
      "text/plain": [
       "(20000, 300)"
      ]
     },
     "execution_count": 83,
     "metadata": {},
     "output_type": "execute_result"
    }
   ],
   "source": [
    "## TODO\n",
    "embedding_matrix.shape"
   ]
  },
  {
   "cell_type": "markdown",
   "metadata": {
    "id": "A_6uAmthfw_5"
   },
   "source": [
    "Now, let's define the embedding layer with initialized pretrained word vectors. Set trainable to `True` to train weights of this layer. You can look at the definition of the class in [Keras documentation](https://keras.io/api/layers/core_layers/embedding/)"
   ]
  },
  {
   "cell_type": "code",
   "execution_count": null,
   "metadata": {
    "id": "UsWaWyYmHWxt"
   },
   "outputs": [],
   "source": [
    "## TODO: Create an embedding layer instance\n",
    "# Load the embedding matrix as the weights matrix for the embedding layer\n",
    "from keras.layers import Embedding\n",
    "\n",
    "# Embedding_layer = Embedding(\n",
    "#     input_dim=max_words_vocab,\n",
    "#     output_dim=embedding_dim,\n",
    "#     embeddings_initializer=\"uniform\",\n",
    "#     embeddings_regularizer=None,\n",
    "#     embeddings_constraint=None,\n",
    "#     mask_zero=False,\n",
    "#     weights=embedding_matrix,\n",
    "#     trainable=True)\n",
    "\n",
    "Embedding_layer = Embedding(\n",
    "    input_dim=max_words_vocab,\n",
    "    output_dim=embedding_dim,\n",
    "    embeddings_initializer=tf.keras.initializers.Constant(embedding_matrix),\n",
    "    embeddings_regularizer=None,\n",
    "    embeddings_constraint=None,\n",
    "    mask_zero=False,\n",
    "    weights=[embedding_matrix],\n",
    "    trainable=True\n",
    ")\n",
    "\n",
    "\n"
   ]
  },
  {
   "cell_type": "markdown",
   "metadata": {
    "id": "Zvf5lBdbQfBN"
   },
   "source": [
    "### Add LSTM"
   ]
  },
  {
   "cell_type": "markdown",
   "metadata": {
    "id": "bATUZE5AREKD"
   },
   "source": [
    "Build the recurrent neural network, considering:\n",
    "* Input data is a `string`\n",
    "* Vectorizer transforms `string` into `ints`\n",
    "* `Embedding` layer for word representations\n",
    "* A `LSTM` layer with 128 units\n",
    "* `Dense` layers [64, 32]\n",
    "* Last layer outputs a value between 0 and 1"
   ]
  },
  {
   "cell_type": "code",
   "execution_count": 104,
   "metadata": {
    "colab": {
     "base_uri": "https://localhost:8080/"
    },
    "id": "ISO2S93hrRIS",
    "outputId": "6b1d8fa4-4c3b-4713-acab-6932a7bc1b07"
   },
   "outputs": [
    {
     "name": "stdout",
     "output_type": "stream",
     "text": [
      "Model: \"sequential_20\"\n",
      "_________________________________________________________________\n",
      " Layer (type)                Output Shape              Param #   \n",
      "=================================================================\n",
      " text_vectorization_3 (Text  (None, 150)               0         \n",
      " Vectorization)                                                  \n",
      "                                                                 \n",
      " embedding_4 (Embedding)     (None, 150, 300)          6000000   \n",
      "                                                                 \n",
      " lstm_13 (LSTM)              (None, 128)               219648    \n",
      "                                                                 \n",
      " dense_41 (Dense)            (None, 64)                8256      \n",
      "                                                                 \n",
      " dense_42 (Dense)            (None, 32)                2080      \n",
      "                                                                 \n",
      " dense_43 (Dense)            (None, 1)                 33        \n",
      "                                                                 \n",
      "=================================================================\n",
      "Total params: 6230017 (23.77 MB)\n",
      "Trainable params: 6230017 (23.77 MB)\n",
      "Non-trainable params: 0 (0.00 Byte)\n",
      "_________________________________________________________________\n"
     ]
    }
   ],
   "source": [
    "## TODO: Build a neural network with a LSTM\n",
    "\n",
    "# Initialize the sequential model\n",
    "lstm = Sequential()\n",
    "\n",
    "# Add the text vectorization layer\n",
    "lstm.add(Input(shape=(1,), dtype=tf.string))  # Input layer expecting a string\n",
    "lstm.add(Vectorizer)  # Text vectorization layer\n",
    "\n",
    "# Add the embedding layer\n",
    "lstm.add(Embedding_layer)  # Embedding layer\n",
    "\n",
    "# Add the LSTM layer with 128 units\n",
    "lstm.add(LSTM(128))\n",
    "\n",
    "# Add the dense layers\n",
    "lstm.add(Dense(64, activation='relu'))\n",
    "\n",
    "lstm.add(Dense(32, activation='relu'))\n",
    "\n",
    "\n",
    "# Add the final output layer with sigmoid activation\n",
    "lstm.add(Dense(1, activation='sigmoid'))\n",
    "\n",
    "# Callbacks\n",
    "earlyStopping = EarlyStopping(monitor='val_loss', patience=5, verbose=0, mode='min')\n",
    "\n",
    "\n",
    "# Compile the model\n",
    "lstm.compile(optimizer='adam', loss='binary_crossentropy', metrics=['accuracy'])\n",
    "\n",
    "# Print model summary\n",
    "lstm.summary()"
   ]
  },
  {
   "cell_type": "code",
   "execution_count": null,
   "metadata": {
    "id": "nlOd1KYlxuVS"
   },
   "outputs": [],
   "source": [
    "from sklearn.model_selection import train_test_split"
   ]
  },
  {
   "cell_type": "code",
   "execution_count": 107,
   "metadata": {
    "colab": {
     "base_uri": "https://localhost:8080/"
    },
    "collapsed": true,
    "id": "oySkoBdfr8H0",
    "jupyter": {
     "outputs_hidden": true
    },
    "outputId": "10a90723-27e7-4d50-a178-969d247c4eee"
   },
   "outputs": [
    {
     "name": "stdout",
     "output_type": "stream",
     "text": [
      "Epoch 1/20\n",
      "800/800 [==============================] - 67s 84ms/step - loss: 0.2879 - accuracy: 0.8951 - val_loss: 0.5234 - val_accuracy: 0.8420\n",
      "Epoch 2/20\n",
      "800/800 [==============================] - 22s 27ms/step - loss: 0.2630 - accuracy: 0.9105 - val_loss: 0.4778 - val_accuracy: 0.8560\n",
      "Epoch 3/20\n",
      "800/800 [==============================] - 19s 24ms/step - loss: 0.1772 - accuracy: 0.9410 - val_loss: 0.4125 - val_accuracy: 0.8715\n",
      "Epoch 4/20\n",
      "800/800 [==============================] - 14s 18ms/step - loss: 0.2832 - accuracy: 0.8765 - val_loss: 0.4367 - val_accuracy: 0.8530\n",
      "Epoch 5/20\n",
      "800/800 [==============================] - 14s 17ms/step - loss: 0.1114 - accuracy: 0.9636 - val_loss: 0.4245 - val_accuracy: 0.8740\n",
      "Epoch 6/20\n",
      "800/800 [==============================] - 13s 16ms/step - loss: 0.0564 - accuracy: 0.9847 - val_loss: 0.4734 - val_accuracy: 0.8740\n",
      "Epoch 7/20\n",
      "800/800 [==============================] - 13s 16ms/step - loss: 0.0377 - accuracy: 0.9910 - val_loss: 0.5487 - val_accuracy: 0.8700\n",
      "Epoch 8/20\n",
      "800/800 [==============================] - 12s 15ms/step - loss: 0.0310 - accuracy: 0.9927 - val_loss: 0.5861 - val_accuracy: 0.8645\n"
     ]
    }
   ],
   "source": [
    "earlyStopping = EarlyStopping(monitor='val_loss', patience=5, verbose=0, mode='min')\n",
    "\n",
    "X_train, X_val, y_train, y_val = train_test_split(train_data['clean_texts'], train_data['label'], test_size=0.2, random_state=42)\n",
    "\n",
    "## TODO: Fit the model\n",
    "history = lstm.fit(\n",
    "    X_train,\n",
    "    y_train,\n",
    "    validation_data=(X_val, y_val),\n",
    "    epochs=20,\n",
    "    batch_size=10,\n",
    "    callbacks=[earlyStopping],\n",
    "    shuffle=True\n",
    ")"
   ]
  },
  {
   "cell_type": "code",
   "execution_count": 122,
   "metadata": {
    "colab": {
     "base_uri": "https://localhost:8080/"
    },
    "id": "U36BOeZ_EKp-",
    "outputId": "203407ec-e734-4d77-f877-2437833bc2d3"
   },
   "outputs": [
    {
     "name": "stdout",
     "output_type": "stream",
     "text": [
      "63/63 [==============================] - 0s 6ms/step\n",
      "Accuracy: 0.7645\n",
      "Precision: 0.8190591073582629\n",
      "Recall: 0.679\n"
     ]
    }
   ],
   "source": [
    "## TODO: Get predictions from your trained network and compute performance metrics\n",
    "y_test = test_data['label']\n",
    "\n",
    "# TODO: Predict labels of test data\n",
    "\n",
    "y_pred = lstm.predict(test_data[\"clean_texts\"])\n",
    "y_pred = y_pred.round()\n",
    "\n",
    "\n",
    "# Model Accuracy\n",
    "print(\"Accuracy:\", metrics.accuracy_score(y_test, y_pred))\n",
    "print(\"Precision:\", metrics.precision_score(y_test, y_pred))\n",
    "print(\"Recall:\", metrics.recall_score(y_test, y_pred))"
   ]
  },
  {
   "cell_type": "markdown",
   "metadata": {
    "id": "3tYADFmYmWKL"
   },
   "source": [
    "We achieved a similar performance than Dense Neural Network with half of the parameters.\n",
    "\n"
   ]
  },
  {
   "cell_type": "markdown",
   "metadata": {
    "id": "YL9pPQDpYMUJ"
   },
   "source": [
    "## Bidirectional LSTM"
   ]
  },
  {
   "cell_type": "markdown",
   "metadata": {
    "id": "YnMMPCcf7nVM"
   },
   "source": [
    "Bidirectional LSTMs are an extension of LSTMs. The basic idea behind a bidirectional LSTM is to run two separate LSTM layers on the input sequence, one in the forward direction and one in the backward direction. This allows the network to capture information from both past and future contexts of each input element, and combine them to make better predictions."
   ]
  },
  {
   "cell_type": "markdown",
   "metadata": {
    "id": "cjZruszZ8xxf"
   },
   "source": [
    "Let's implement a neural network with a bidirectional LSTM layer of 128 units and compare the performance with previous networks."
   ]
  },
  {
   "cell_type": "code",
   "execution_count": 116,
   "metadata": {
    "id": "sfeQUSNFYPET"
   },
   "outputs": [],
   "source": [
    "from keras.layers import Bidirectional\n"
   ]
  },
  {
   "cell_type": "code",
   "execution_count": 119,
   "metadata": {
    "colab": {
     "base_uri": "https://localhost:8080/"
    },
    "id": "23Ve1RdfYXHg",
    "outputId": "52f11f83-0a29-4357-9676-2ab7965de14d"
   },
   "outputs": [
    {
     "name": "stdout",
     "output_type": "stream",
     "text": [
      "Model: \"sequential_27\"\n",
      "_________________________________________________________________\n",
      " Layer (type)                Output Shape              Param #   \n",
      "=================================================================\n",
      " text_vectorization_3 (Text  (None, 150)               0         \n",
      " Vectorization)                                                  \n",
      "                                                                 \n",
      " embedding_4 (Embedding)     (None, 150, 300)          6000000   \n",
      "                                                                 \n",
      " bidirectional (Bidirection  (None, 256)               439296    \n",
      " al)                                                             \n",
      "                                                                 \n",
      " dense_44 (Dense)            (None, 64)                16448     \n",
      "                                                                 \n",
      " dense_45 (Dense)            (None, 32)                2080      \n",
      "                                                                 \n",
      " dense_46 (Dense)            (None, 1)                 33        \n",
      "                                                                 \n",
      "=================================================================\n",
      "Total params: 6457857 (24.63 MB)\n",
      "Trainable params: 6457857 (24.63 MB)\n",
      "Non-trainable params: 0 (0.00 Byte)\n",
      "_________________________________________________________________\n"
     ]
    }
   ],
   "source": [
    "## TODO: Implement a neural network with a bidirectional LSTM\n",
    "\n",
    "# Initialize the sequential model\n",
    "bi_lstm = Sequential()\n",
    "\n",
    "# Add the text vectorization layer\n",
    "bi_lstm.add(Input(shape=(1,), dtype=tf.string))  # Input layer expecting a string\n",
    "bi_lstm.add(Vectorizer)  # Text vectorization layer\n",
    "\n",
    "# Add the embedding layer\n",
    "bi_lstm.add(Embedding_layer)  # Embedding layer\n",
    "\n",
    "# Add the bidirectional LSTM layer with 128 units\n",
    "bi_lstm.add(Bidirectional(LSTM(128)))\n",
    "\n",
    "# Add the dense layers\n",
    "bi_lstm.add(Dense(64, activation='relu'))\n",
    "\n",
    "bi_lstm.add(Dense(32, activation='relu'))\n",
    "\n",
    "\n",
    "# Add the final output layer with sigmoid activation\n",
    "bi_lstm.add(Dense(1, activation='sigmoid'))\n",
    "\n",
    "# Callbacks\n",
    "earlyStopping = EarlyStopping(monitor='val_loss', patience=5, verbose=0, mode='min')\n",
    "\n",
    "\n",
    "# Compile the model\n",
    "bi_lstm.compile(optimizer='adam', loss='binary_crossentropy', metrics=['accuracy'])\n",
    "\n",
    "# Print model summary\n",
    "bi_lstm.summary()"
   ]
  },
  {
   "cell_type": "code",
   "execution_count": 120,
   "metadata": {
    "colab": {
     "base_uri": "https://localhost:8080/"
    },
    "id": "Us2CHWDbYXHh",
    "outputId": "26532c48-6b05-4124-fd76-271ec57fa5b3"
   },
   "outputs": [
    {
     "name": "stdout",
     "output_type": "stream",
     "text": [
      "Epoch 1/20\n",
      "800/800 [==============================] - 54s 60ms/step - loss: 0.2416 - accuracy: 0.8929 - val_loss: 0.3528 - val_accuracy: 0.8730\n",
      "Epoch 2/20\n",
      "800/800 [==============================] - 23s 28ms/step - loss: 0.0757 - accuracy: 0.9732 - val_loss: 0.3922 - val_accuracy: 0.8870\n",
      "Epoch 3/20\n",
      "800/800 [==============================] - 20s 25ms/step - loss: 0.0589 - accuracy: 0.9791 - val_loss: 0.5135 - val_accuracy: 0.8600\n",
      "Epoch 4/20\n",
      "800/800 [==============================] - 20s 25ms/step - loss: 0.0357 - accuracy: 0.9889 - val_loss: 0.4462 - val_accuracy: 0.8865\n",
      "Epoch 5/20\n",
      "800/800 [==============================] - 18s 22ms/step - loss: 0.0253 - accuracy: 0.9921 - val_loss: 0.5263 - val_accuracy: 0.8870\n",
      "Epoch 6/20\n",
      "800/800 [==============================] - 18s 23ms/step - loss: 0.0169 - accuracy: 0.9950 - val_loss: 0.6028 - val_accuracy: 0.8795\n"
     ]
    }
   ],
   "source": [
    "## TODO: Fit the model\n",
    "history = bi_lstm.fit(\n",
    "    X_train,\n",
    "    y_train,\n",
    "    validation_data=(X_val, y_val),\n",
    "    epochs=20,\n",
    "    batch_size=10,\n",
    "    callbacks=[earlyStopping],\n",
    "    shuffle=True\n",
    ")"
   ]
  },
  {
   "cell_type": "code",
   "execution_count": 123,
   "metadata": {
    "colab": {
     "base_uri": "https://localhost:8080/"
    },
    "id": "ZuoFQFS-YXHh",
    "outputId": "d15078de-194a-4205-ac58-658642969c59"
   },
   "outputs": [
    {
     "name": "stdout",
     "output_type": "stream",
     "text": [
      "63/63 [==============================] - 0s 6ms/step\n",
      "Accuracy: 0.7645\n",
      "Precision: 0.8190591073582629\n",
      "Recall: 0.679\n"
     ]
    }
   ],
   "source": [
    "## TODO: Predict with a test dataset\n",
    "y_test = test_data['label']\n",
    "\n",
    "# TODO: Predict labels of test data\n",
    "\n",
    "y_pred = lstm.predict(test_data[\"clean_texts\"])\n",
    "y_pred = y_pred.round()\n",
    "\n",
    "# Model Accuracy\n",
    "print(\"Accuracy:\",metrics.accuracy_score(y_test, y_pred))\n",
    "print(\"Precision:\",metrics.precision_score(y_test, y_pred))\n",
    "print(\"Recall:\",metrics.recall_score(y_test, y_pred))"
   ]
  },
  {
   "cell_type": "code",
   "execution_count": 124,
   "metadata": {
    "colab": {
     "base_uri": "https://localhost:8080/",
     "height": 472
    },
    "id": "J7J1uxl5QEI5",
    "outputId": "b3835045-92a8-49df-8dbe-7f451da11d9c"
   },
   "outputs": [
    {
     "data": {
      "image/png": "[encoded data removed]",
      "text/plain": [
       "<Figure size 640x480 with 1 Axes>"
      ]
     },
     "metadata": {},
     "output_type": "display_data"
    }
   ],
   "source": [
    "# Plot training and validation loss\n",
    "plt.plot(history.history['loss'], label='Training Loss')\n",
    "plt.plot(history.history['val_loss'], label='Validation Loss')\n",
    "plt.title('Training and Validation Loss')\n",
    "plt.xlabel('Epoch')\n",
    "plt.ylabel('Loss')\n",
    "plt.legend()\n",
    "plt.show()"
   ]
  }
 ],
 "metadata": {
  "accelerator": "GPU",
  "colab": {
   "gpuType": "T4",
   "provenance": []
  },
  "kernelspec": {
   "display_name": "Python 3",
   "language": "python",
   "name": "python3"
  },
  "language_info": {
   "codemirror_mode": {
    "name": "ipython",
    "version": 3
   },
   "file_extension": ".py",
   "mimetype": "text/x-python",
   "name": "python",
   "nbconvert_exporter": "python",
   "pygments_lexer": "ipython3",
   "version": "3.8.8"
  },
  "widgets": {
   "application/vnd.jupyter.widget-state+json": {
    "035b80d95b9a4f8c870e4c16fff8d560": {
     "model_module": "@jupyter-widgets/controls",
     "model_module_version": "1.5.0",
     "model_name": "DescriptionStyleModel",
     "state": {
      "_model_module": "@jupyter-widgets/controls",
      "_model_module_version": "1.5.0",
      "_model_name": "DescriptionStyleModel",
      "_view_count": null,
      "_view_module": "@jupyter-widgets/base",
      "_view_module_version": "1.2.0",
      "_view_name": "StyleView",
      "description_width": ""
     }
    },
    "2d1f7c03535f47cbaa703fa8fa93291e": {
     "model_module": "@jupyter-widgets/controls",
     "model_module_version": "1.5.0",
     "model_name": "DescriptionStyleModel",
     "state": {
      "_model_module": "@jupyter-widgets/controls",
      "_model_module_version": "1.5.0",
      "_model_name": "DescriptionStyleModel",
      "_view_count": null,
      "_view_module": "@jupyter-widgets/base",
      "_view_module_version": "1.2.0",
      "_view_name": "StyleView",
      "description_width": ""
     }
    },
    "72ab8f2ee8a949b385f4f909c55c4328": {
     "model_module": "@jupyter-widgets/base",
     "model_module_version": "1.2.0",
     "model_name": "LayoutModel",
     "state": {
      "_model_module": "@jupyter-widgets/base",
      "_model_module_version": "1.2.0",
      "_model_name": "LayoutModel",
      "_view_count": null,
      "_view_module": "@jupyter-widgets/base",
      "_view_module_version": "1.2.0",
      "_view_name": "LayoutView",
      "align_content": null,
      "align_items": null,
      "align_self": null,
      "border": null,
      "bottom": null,
      "display": null,
      "flex": null,
      "flex_flow": null,
      "grid_area": null,
      "grid_auto_columns": null,
      "grid_auto_flow": null,
      "grid_auto_rows": null,
      "grid_column": null,
      "grid_gap": null,
      "grid_row": null,
      "grid_template_areas": null,
      "grid_template_columns": null,
      "grid_template_rows": null,
      "height": null,
      "justify_content": null,
      "justify_items": null,
      "left": null,
      "margin": null,
      "max_height": null,
      "max_width": null,
      "min_height": null,
      "min_width": null,
      "object_fit": null,
      "object_position": null,
      "order": null,
      "overflow": null,
      "overflow_x": null,
      "overflow_y": null,
      "padding": null,
      "right": null,
      "top": null,
      "visibility": null,
      "width": null
     }
    },
    "78ac7aa74e124cab824c2c2e0c9cd791": {
     "model_module": "@jupyter-widgets/controls",
     "model_module_version": "1.5.0",
     "model_name": "HTMLModel",
     "state": {
      "_dom_classes": [],
      "_model_module": "@jupyter-widgets/controls",
      "_model_module_version": "1.5.0",
      "_model_name": "HTMLModel",
      "_view_count": null,
      "_view_module": "@jupyter-widgets/controls",
      "_view_module_version": "1.5.0",
      "_view_name": "HTMLView",
      "description": "",
      "description_tooltip": null,
      "layout": "IPY_MODEL_d9bc090008c34435b7327b55374575bc",
      "placeholder": "​",
      "style": "IPY_MODEL_035b80d95b9a4f8c870e4c16fff8d560",
      "value": " 20000/20000 [02:08&lt;00:00, 131.83it/s]"
     }
    },
    "9361e81bd77143f3b1564f0e20ef3352": {
     "model_module": "@jupyter-widgets/base",
     "model_module_version": "1.2.0",
     "model_name": "LayoutModel",
     "state": {
      "_model_module": "@jupyter-widgets/base",
      "_model_module_version": "1.2.0",
      "_model_name": "LayoutModel",
      "_view_count": null,
      "_view_module": "@jupyter-widgets/base",
      "_view_module_version": "1.2.0",
      "_view_name": "LayoutView",
      "align_content": null,
      "align_items": null,
      "align_self": null,
      "border": null,
      "bottom": null,
      "display": null,
      "flex": null,
      "flex_flow": null,
      "grid_area": null,
      "grid_auto_columns": null,
      "grid_auto_flow": null,
      "grid_auto_rows": null,
      "grid_column": null,
      "grid_gap": null,
      "grid_row": null,
      "grid_template_areas": null,
      "grid_template_columns": null,
      "grid_template_rows": null,
      "height": null,
      "justify_content": null,
      "justify_items": null,
      "left": null,
      "margin": null,
      "max_height": null,
      "max_width": null,
      "min_height": null,
      "min_width": null,
      "object_fit": null,
      "object_position": null,
      "order": null,
      "overflow": null,
      "overflow_x": null,
      "overflow_y": null,
      "padding": null,
      "right": null,
      "top": null,
      "visibility": null,
      "width": null
     }
    },
    "a336cc19b37f4714af68c84d930f81a2": {
     "model_module": "@jupyter-widgets/base",
     "model_module_version": "1.2.0",
     "model_name": "LayoutModel",
     "state": {
      "_model_module": "@jupyter-widgets/base",
      "_model_module_version": "1.2.0",
      "_model_name": "LayoutModel",
      "_view_count": null,
      "_view_module": "@jupyter-widgets/base",
      "_view_module_version": "1.2.0",
      "_view_name": "LayoutView",
      "align_content": null,
      "align_items": null,
      "align_self": null,
      "border": null,
      "bottom": null,
      "display": null,
      "flex": null,
      "flex_flow": null,
      "grid_area": null,
      "grid_auto_columns": null,
      "grid_auto_flow": null,
      "grid_auto_rows": null,
      "grid_column": null,
      "grid_gap": null,
      "grid_row": null,
      "grid_template_areas": null,
      "grid_template_columns": null,
      "grid_template_rows": null,
      "height": null,
      "justify_content": null,
      "justify_items": null,
      "left": null,
      "margin": null,
      "max_height": null,
      "max_width": null,
      "min_height": null,
      "min_width": null,
      "object_fit": null,
      "object_position": null,
      "order": null,
      "overflow": null,
      "overflow_x": null,
      "overflow_y": null,
      "padding": null,
      "right": null,
      "top": null,
      "visibility": null,
      "width": null
     }
    },
    "a860518ce7d74a6995289ddffec78cae": {
     "model_module": "@jupyter-widgets/controls",
     "model_module_version": "1.5.0",
     "model_name": "FloatProgressModel",
     "state": {
      "_dom_classes": [],
      "_model_module": "@jupyter-widgets/controls",
      "_model_module_version": "1.5.0",
      "_model_name": "FloatProgressModel",
      "_view_count": null,
      "_view_module": "@jupyter-widgets/controls",
      "_view_module_version": "1.5.0",
      "_view_name": "ProgressView",
      "bar_style": "success",
      "description": "",
      "description_tooltip": null,
      "layout": "IPY_MODEL_72ab8f2ee8a949b385f4f909c55c4328",
      "max": 20000,
      "min": 0,
      "orientation": "horizontal",
      "style": "IPY_MODEL_d55020a209c94c67bd05d72ced058ab7",
      "value": 20000
     }
    },
    "ab05df01bc8b409c8bb8f188fa836eba": {
     "model_module": "@jupyter-widgets/controls",
     "model_module_version": "1.5.0",
     "model_name": "HBoxModel",
     "state": {
      "_dom_classes": [],
      "_model_module": "@jupyter-widgets/controls",
      "_model_module_version": "1.5.0",
      "_model_name": "HBoxModel",
      "_view_count": null,
      "_view_module": "@jupyter-widgets/controls",
      "_view_module_version": "1.5.0",
      "_view_name": "HBoxView",
      "box_style": "",
      "children": [
       "IPY_MODEL_ab30b11a7e774e74ada8a00ca8c628c9",
       "IPY_MODEL_a860518ce7d74a6995289ddffec78cae",
       "IPY_MODEL_78ac7aa74e124cab824c2c2e0c9cd791"
      ],
      "layout": "IPY_MODEL_a336cc19b37f4714af68c84d930f81a2"
     }
    },
    "ab30b11a7e774e74ada8a00ca8c628c9": {
     "model_module": "@jupyter-widgets/controls",
     "model_module_version": "1.5.0",
     "model_name": "HTMLModel",
     "state": {
      "_dom_classes": [],
      "_model_module": "@jupyter-widgets/controls",
      "_model_module_version": "1.5.0",
      "_model_name": "HTMLModel",
      "_view_count": null,
      "_view_module": "@jupyter-widgets/controls",
      "_view_module_version": "1.5.0",
      "_view_name": "HTMLView",
      "description": "",
      "description_tooltip": null,
      "layout": "IPY_MODEL_9361e81bd77143f3b1564f0e20ef3352",
      "placeholder": "​",
      "style": "IPY_MODEL_2d1f7c03535f47cbaa703fa8fa93291e",
      "value": "100%"
     }
    },
    "d55020a209c94c67bd05d72ced058ab7": {
     "model_module": "@jupyter-widgets/controls",
     "model_module_version": "1.5.0",
     "model_name": "ProgressStyleModel",
     "state": {
      "_model_module": "@jupyter-widgets/controls",
      "_model_module_version": "1.5.0",
      "_model_name": "ProgressStyleModel",
      "_view_count": null,
      "_view_module": "@jupyter-widgets/base",
      "_view_module_version": "1.2.0",
      "_view_name": "StyleView",
      "bar_color": null,
      "description_width": ""
     }
    },
    "d9bc090008c34435b7327b55374575bc": {
     "model_module": "@jupyter-widgets/base",
     "model_module_version": "1.2.0",
     "model_name": "LayoutModel",
     "state": {
      "_model_module": "@jupyter-widgets/base",
      "_model_module_version": "1.2.0",
      "_model_name": "LayoutModel",
      "_view_count": null,
      "_view_module": "@jupyter-widgets/base",
      "_view_module_version": "1.2.0",
      "_view_name": "LayoutView",
      "align_content": null,
      "align_items": null,
      "align_self": null,
      "border": null,
      "bottom": null,
      "display": null,
      "flex": null,
      "flex_flow": null,
      "grid_area": null,
      "grid_auto_columns": null,
      "grid_auto_flow": null,
      "grid_auto_rows": null,
      "grid_column": null,
      "grid_gap": null,
      "grid_row": null,
      "grid_template_areas": null,
      "grid_template_columns": null,
      "grid_template_rows": null,
      "height": null,
      "justify_content": null,
      "justify_items": null,
      "left": null,
      "margin": null,
      "max_height": null,
      "max_width": null,
      "min_height": null,
      "min_width": null,
      "object_fit": null,
      "object_position": null,
      "order": null,
      "overflow": null,
      "overflow_x": null,
      "overflow_y": null,
      "padding": null,
      "right": null,
      "top": null,
      "visibility": null,
      "width": null
     }
    }
   }
  }
 },
 "nbformat": 4,
 "nbformat_minor": 4
}
